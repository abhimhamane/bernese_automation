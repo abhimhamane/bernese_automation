{
 "cells": [
  {
   "cell_type": "markdown",
   "metadata": {},
   "source": [
    "# Code Tryout"
   ]
  },
  {
   "cell_type": "code",
   "execution_count": 1,
   "metadata": {},
   "outputs": [],
   "source": [
    "import sys\n",
    "import os\n",
    "import re\n",
    "from ftplib import FTP_TLS, FTP\n",
    "from tqdm import tqdm\n",
    "import requests\n",
    "from bs4 import BeautifulSoup"
   ]
  },
  {
   "cell_type": "code",
   "execution_count": 3,
   "metadata": {},
   "outputs": [],
   "source": [
    "from AutoBERN.utils import login_sopac, login_aiub, login_cddis, NOOPCHECK, dir_exists, download\n",
    "from AutoBERN.station_files import crd, vel, sat, fix, psd\n",
    "from AutoBERN.igs_rinex import sopac_rinex, sopac_bulk_rinex\n",
    "from AutoBERN.daily_files import clk, bulk_daily_files, eph, erp, ion"
   ]
  },
  {
   "cell_type": "markdown",
   "metadata": {},
   "source": [
    "# AIUB\n",
    "Required files\n",
    "- CLK, ERP, EPH, ION, P1C1XXXX.DCB, P1P2XXXX.DCB\n",
    "- Daily files - CLK, ERP, EPH and ION\n",
    "- Monthly files - P1C1 and P1P22\n",
    "- CRD, VEL, FIX, PSD from ../BSWUSER52/STA\n",
    "- SAT_xxxx.CRX from ../BSWUSER52/GEN"
   ]
  },
  {
   "cell_type": "code",
   "execution_count": 4,
   "metadata": {},
   "outputs": [
    {
     "name": "stdout",
     "output_type": "stream",
     "text": [
      "220 130.92.252.184 FTP server ready\n"
     ]
    }
   ],
   "source": [
    "aiub = login_aiub()"
   ]
  },
  {
   "cell_type": "code",
   "execution_count": 5,
   "metadata": {},
   "outputs": [
    {
     "name": "stdout",
     "output_type": "stream",
     "text": [
      "200 NOOP command successful\n"
     ]
    },
    {
     "data": {
      "text/plain": [
       "True"
      ]
     },
     "execution_count": 5,
     "metadata": {},
     "output_type": "execute_result"
    }
   ],
   "source": [
    "NOOPCHECK(aiub)"
   ]
  },
  {
   "cell_type": "code",
   "execution_count": 6,
   "metadata": {},
   "outputs": [],
   "source": [
    "download_folder = \"/media/abhishek/DATA/open_source/bernese_automation/test_downloads\"\n"
   ]
  },
  {
   "cell_type": "code",
   "execution_count": 6,
   "metadata": {},
   "outputs": [
    {
     "name": "stdout",
     "output_type": "stream",
     "text": [
      "['IGB08_R.CRD', 'IGB14.CRD', 'IGB14_R.CRD', 'IGS05_R.CRD', 'IGS08_R.CRD', 'IGS14.CRD', 'IGS14_R.CRD', 'IGS_00B_R.CRD', 'IGS_00_R.CRD', 'IGT05_R.CRD', 'ITRF2000_R.CRD', 'ITRF2005_R.CRD', 'ITRF2008_R.CRD', 'ITRF2014_R.CRD', 'ITRF91.CRD', 'ITRF92.CRD', 'ITRF93.CRD', 'ITRF94.CRD', 'ITRF96.CRD', 'ITRF97.CRD', 'IGS20_R.CRD']\n",
      "IGB14.CRD\n",
      "The directory - /media/abhishek/DATA/open_source/bernese_automation/test_downloads exists\n",
      "FTP Dir: /BSWUSER52/STA, Local Dir: /media/abhishek/DATA/open_source/bernese_automation\n"
     ]
    }
   ],
   "source": [
    "crd(aiub, download_folder)"
   ]
  },
  {
   "cell_type": "code",
   "execution_count": 13,
   "metadata": {},
   "outputs": [
    {
     "name": "stdout",
     "output_type": "stream",
     "text": [
      "['SAT_2021.CRX', 'SAT_2020.CRX', 'SAT_2022.CRX', 'SAT_2023.CRX', 'SAT_1994.CRX', 'SAT_1995.CRX', 'SAT_1996.CRX', 'SAT_1997.CRX', 'SAT_1998.CRX', 'SAT_1999.CRX', 'SAT_2000.CRX', 'SAT_2001.CRX', 'SAT_2002.CRX', 'SAT_2003.CRX', 'SAT_2004.CRX', 'SAT_2005.CRX', 'SAT_2006.CRX', 'SAT_2007.CRX', 'SAT_2008.CRX', 'SAT_2009.CRX', 'SAT_2010.CRX', 'SAT_2011.CRX', 'SAT_2012.CRX', 'SAT_2013.CRX', 'SAT_2014.CRX', 'SAT_2015.CRX', 'SAT_2016.CRX', 'SAT_2017.CRX', 'SAT_2019.CRX', 'SAT_2018.CRX', 'SAT_1992.CRX', 'SAT_1993.CRX', 'SAT_2024.CRX']\n",
      "The directory - /media/abhishek/DATA/open_source/bernese_automation/test_downloads exists\n",
      "FTP Dir: /BSWUSER52/GEN, Local Dir: /media/abhishek/DATA/open_source/bernese_automation\n",
      "Error occured, 550 1: No such file or directory\n"
     ]
    }
   ],
   "source": [
    "sat(aiub, download_folder)"
   ]
  },
  {
   "cell_type": "code",
   "execution_count": 14,
   "metadata": {},
   "outputs": [
    {
     "name": "stdout",
     "output_type": "stream",
     "text": [
      "['IGB08.FIX', 'IGB14.FIX', 'IGS05.FIX', 'IGS08.FIX', 'IGS14.FIX', 'IGS_00.FIX', 'IGS_00B.FIX', 'IGT05.FIX', 'ITRF2000.FIX', 'ITRF2005.FIX', 'ITRF2008.FIX', 'ITRF2014.FIX', 'IGS20.FIX']\n",
      "The directory - /media/abhishek/DATA/open_source/bernese_automation/test_downloads exists\n",
      "FTP Dir: /BSWUSER52/STA, Local Dir: /media/abhishek/DATA/open_source/bernese_automation\n",
      "Error occured, 550 5: No such file or directory\n"
     ]
    }
   ],
   "source": [
    "fix(aiub, download_folder)"
   ]
  },
  {
   "cell_type": "code",
   "execution_count": 15,
   "metadata": {},
   "outputs": [
    {
     "name": "stdout",
     "output_type": "stream",
     "text": [
      "['IGB08_R.VEL', 'IGB14.VEL', 'IGB14_R.VEL', 'IGS05_R.VEL', 'IGS08_R.VEL', 'IGS14_R.VEL', 'IGS_00B_R.VEL', 'IGS_00_R.VEL', 'IGT05_R.VEL', 'ITRF2000_R.VEL', 'ITRF2005_R.VEL', 'ITRF2008_R.VEL', 'ITRF2014_R.VEL', 'ITRF91.VEL', 'ITRF92.VEL', 'ITRF93.VEL', 'ITRF94.VEL', 'ITRF96.VEL', 'ITRF97.VEL', 'IGS20_R.VEL']\n",
      "IGB08_R.VEL\n",
      "The directory - /media/abhishek/DATA/open_source/bernese_automation/test_downloads exists\n",
      "FTP Dir: /BSWUSER52/STA, Local Dir: /media/abhishek/DATA/open_source/bernese_automation\n"
     ]
    }
   ],
   "source": [
    "vel(aiub, download_folder)"
   ]
  },
  {
   "cell_type": "code",
   "execution_count": 16,
   "metadata": {},
   "outputs": [
    {
     "name": "stdout",
     "output_type": "stream",
     "text": [
      "['IGB14.PSD', 'IGS14.PSD', 'ITRF2014gnss.PSD', 'IGS20.PSD']\n",
      "IGS14.PSD\n",
      "The directory - /media/abhishek/DATA/open_source/bernese_automation/test_downloads exists\n",
      "FTP Dir: /BSWUSER52/STA, Local Dir: /media/abhishek/DATA/open_source/bernese_automation\n"
     ]
    }
   ],
   "source": [
    "psd(aiub, download_folder)"
   ]
  },
  {
   "cell_type": "code",
   "execution_count": 22,
   "metadata": {},
   "outputs": [
    {
     "data": {
      "text/plain": [
       "['COD22002.SNX.Z',\n",
       " 'COD22002_v3.CLK.Z',\n",
       " 'CGIM0010.22N.Z',\n",
       " 'CGIM0020.22N.Z',\n",
       " 'CGIM0030.22N.Z',\n",
       " 'CGIM0040.22N.Z',\n",
       " 'CGIM0050.22N.Z',\n",
       " 'CGIM0060.22N.Z',\n",
       " 'CGIM0070.22N.Z',\n",
       " 'CGIM0080.22N.Z',\n",
       " 'CGIM0090.22N.Z',\n",
       " 'CGIM0100.22N.Z',\n",
       " 'CGIM0110.22N.Z',\n",
       " 'CGIM0120.22N.Z',\n",
       " 'CGIM0130.22N.Z',\n",
       " 'CGIM0140.22N.Z',\n",
       " 'CGIM0150.22N.Z',\n",
       " 'CGIM0160.22N.Z',\n",
       " 'CGIM0170.22N.Z',\n",
       " 'CGIM0180.22N.Z',\n",
       " 'CGIM0190.22N.Z',\n",
       " 'CGIM0200.22N.Z',\n",
       " 'CGIM0210.22N.Z',\n",
       " 'CGIM0220.22N.Z',\n",
       " 'CGIM0230.22N.Z',\n",
       " 'CGIM0240.22N.Z',\n",
       " 'CGIM0250.22N.Z',\n",
       " 'CGIM0260.22N.Z',\n",
       " 'CGIM0270.22N.Z',\n",
       " 'CGIM0280.22N.Z',\n",
       " 'CGIM0290.22N.Z',\n",
       " 'CGIM0300.22N.Z',\n",
       " 'CGIM0310.22N.Z',\n",
       " 'CGIM0320.22N.Z',\n",
       " 'CGIM0330.22N.Z',\n",
       " 'CGIM0340.22N.Z',\n",
       " 'CGIM0350.22N.Z',\n",
       " 'CGIM0360.22N.Z',\n",
       " 'CGIM0370.22N.Z',\n",
       " 'CGIM0380.22N.Z',\n",
       " 'CGIM0390.22N.Z',\n",
       " 'CGIM0400.22N.Z',\n",
       " 'CGIM0410.22N.Z',\n",
       " 'CGIM0420.22N.Z',\n",
       " 'CGIM0430.22N.Z',\n",
       " 'CGIM0440.22N.Z',\n",
       " 'CGIM0450.22N.Z',\n",
       " 'CGIM0460.22N.Z',\n",
       " 'CGIM0470.22N.Z',\n",
       " 'CGIM0480.22N.Z',\n",
       " 'CGIM0490.22N.Z',\n",
       " 'CGIM0500.22N.Z',\n",
       " 'CGIM0510.22N.Z',\n",
       " 'CGIM0520.22N.Z',\n",
       " 'CGIM0530.22N.Z',\n",
       " 'CGIM0540.22N.Z',\n",
       " 'CGIM0550.22N.Z',\n",
       " 'CGIM0560.22N.Z',\n",
       " 'CGIM0570.22N.Z',\n",
       " 'CGIM0580.22N.Z',\n",
       " 'CGIM0590.22N.Z',\n",
       " 'CGIM0600.22N.Z',\n",
       " 'CGIM0610.22N.Z',\n",
       " 'CGIM0620.22N.Z',\n",
       " 'CGIM0630.22N.Z',\n",
       " 'CGIM0640.22N.Z',\n",
       " 'CGIM0650.22N.Z',\n",
       " 'CGIM0660.22N.Z',\n",
       " 'CGIM0670.22N.Z',\n",
       " 'CGIM0680.22N.Z',\n",
       " 'CGIM0690.22N.Z',\n",
       " 'CGIM0700.22N.Z',\n",
       " 'CGIM0710.22N.Z',\n",
       " 'CGIM0720.22N.Z',\n",
       " 'CGIM0730.22N.Z',\n",
       " 'CGIM0740.22N.Z',\n",
       " 'CGIM0750.22N.Z',\n",
       " 'CGIM0760.22N.Z',\n",
       " 'CGIM0770.22N.Z',\n",
       " 'CGIM0780.22N.Z',\n",
       " 'CGIM0790.22N.Z',\n",
       " 'CGIM0800.22N.Z',\n",
       " 'CGIM0810.22N.Z',\n",
       " 'CGIM0820.22N.Z',\n",
       " 'CGIM0830.22N.Z',\n",
       " 'CGIM0840.22N.Z',\n",
       " 'CGIM0850.22N.Z',\n",
       " 'CGIM0860.22N.Z',\n",
       " 'CGIM0870.22N.Z',\n",
       " 'CGIM0880.22N.Z',\n",
       " 'CGIM0890.22N.Z',\n",
       " 'CGIM0900.22N.Z',\n",
       " 'CGIM0910.22N.Z',\n",
       " 'CGIM0920.22N.Z',\n",
       " 'CGIM0930.22N.Z',\n",
       " 'CGIM0940.22N.Z',\n",
       " 'CGIM0950.22N.Z',\n",
       " 'CGIM0960.22N.Z',\n",
       " 'CGIM0970.22N.Z',\n",
       " 'CGIM0980.22N.Z',\n",
       " 'CGIM0990.22N.Z',\n",
       " 'CGIM1000.22N.Z',\n",
       " 'CGIM1010.22N.Z',\n",
       " 'CGIM1020.22N.Z',\n",
       " 'CGIM1030.22N.Z',\n",
       " 'CGIM1040.22N.Z',\n",
       " 'CGIM1050.22N.Z',\n",
       " 'CGIM1060.22N.Z',\n",
       " 'CGIM1070.22N.Z',\n",
       " 'CGIM1080.22N.Z',\n",
       " 'CGIM1090.22N.Z',\n",
       " 'CGIM1100.22N.Z',\n",
       " 'CGIM1110.22N.Z',\n",
       " 'COD21906.BIA.Z',\n",
       " 'COD21906.CLK.Z',\n",
       " 'COD21906.CLK_05S.Z',\n",
       " 'COD21906.EPH.Z',\n",
       " 'COD21906.ERP.Z',\n",
       " 'COD21906.ION.Z',\n",
       " 'COD21906.OBX.Z',\n",
       " 'COD21906.SNX.Z',\n",
       " 'COD21906.TRO.Z',\n",
       " 'COD21906_v3.CLK.Z',\n",
       " 'COD21906_v3.CLK_05S.Z',\n",
       " 'COD21907.ERP.Z',\n",
       " 'COD21907.SNX.Z',\n",
       " 'COD21907.SUM.Z',\n",
       " 'COD21910.BIA.Z',\n",
       " 'COD21910.CLK.Z',\n",
       " 'COD21910.CLK_05S.Z',\n",
       " 'COD21910.EPH.Z',\n",
       " 'COD21910.ERP.Z',\n",
       " 'COD21910.ION.Z',\n",
       " 'COD21910.OBX.Z',\n",
       " 'COD21910.SNX.Z',\n",
       " 'COD21910.TRO.Z',\n",
       " 'COD21910_v3.CLK.Z',\n",
       " 'COD21910_v3.CLK_05S.Z',\n",
       " 'COD21911.BIA.Z',\n",
       " 'COD21911.CLK.Z',\n",
       " 'COD21911.CLK_05S.Z',\n",
       " 'COD21911.EPH.Z',\n",
       " 'COD21911.ERP.Z',\n",
       " 'COD21911.ION.Z',\n",
       " 'COD21911.OBX.Z',\n",
       " 'COD21911.SNX.Z',\n",
       " 'COD21911.TRO.Z',\n",
       " 'COD21911_v3.CLK.Z',\n",
       " 'COD21911_v3.CLK_05S.Z',\n",
       " 'COD21912.BIA.Z',\n",
       " 'COD21912.CLK.Z',\n",
       " 'COD21912.CLK_05S.Z',\n",
       " 'COD21912.EPH.Z',\n",
       " 'COD21912.ERP.Z',\n",
       " 'COD21912.ION.Z',\n",
       " 'COD21912.OBX.Z',\n",
       " 'COD21912.SNX.Z',\n",
       " 'COD21912.TRO.Z',\n",
       " 'COD21912_v3.CLK.Z',\n",
       " 'COD21912_v3.CLK_05S.Z',\n",
       " 'COD21913.BIA.Z',\n",
       " 'COD21913.CLK.Z',\n",
       " 'COD21913.CLK_05S.Z',\n",
       " 'COD21913.EPH.Z',\n",
       " 'COD21913.ERP.Z',\n",
       " 'COD21913.ION.Z',\n",
       " 'COD21913.OBX.Z',\n",
       " 'COD21913.SNX.Z',\n",
       " 'COD21913.TRO.Z',\n",
       " 'COD21913_v3.CLK.Z',\n",
       " 'COD21913_v3.CLK_05S.Z',\n",
       " 'COD21914.BIA.Z',\n",
       " 'COD21914.CLK.Z',\n",
       " 'COD21914.CLK_05S.Z',\n",
       " 'COD21914.EPH.Z',\n",
       " 'COD21914.ERP.Z',\n",
       " 'COD21914.ION.Z',\n",
       " 'COD21914.OBX.Z',\n",
       " 'COD21914.SNX.Z',\n",
       " 'COD21914.TRO.Z',\n",
       " 'COD21914_v3.CLK.Z',\n",
       " 'COD21914_v3.CLK_05S.Z',\n",
       " 'COD21915.BIA.Z',\n",
       " 'COD21915.CLK.Z',\n",
       " 'COD21915.CLK_05S.Z',\n",
       " 'COD21915.EPH.Z',\n",
       " 'COD21915.ERP.Z',\n",
       " 'COD21915.ION.Z',\n",
       " 'COD21915.OBX.Z',\n",
       " 'COD21915.SNX.Z',\n",
       " 'COD21915.TRO.Z',\n",
       " 'COD21915_v3.CLK.Z',\n",
       " 'COD21915_v3.CLK_05S.Z',\n",
       " 'COD21916.BIA.Z',\n",
       " 'COD21916.CLK.Z',\n",
       " 'COD21916.CLK_05S.Z',\n",
       " 'COD21916.EPH.Z',\n",
       " 'COD21916.ERP.Z',\n",
       " 'COD21916.ION.Z',\n",
       " 'COD21916.OBX.Z',\n",
       " 'COD21916.SNX.Z',\n",
       " 'COD21916.TRO.Z',\n",
       " 'COD21916_v3.CLK.Z',\n",
       " 'COD21916_v3.CLK_05S.Z',\n",
       " 'COD21917.ERP.Z',\n",
       " 'COD21917.SNX.Z',\n",
       " 'COD21917.SUM.Z',\n",
       " 'COD21920.BIA.Z',\n",
       " 'COD21920.CLK.Z',\n",
       " 'COD21920.CLK_05S.Z',\n",
       " 'COD21920.EPH.Z',\n",
       " 'COD21920.ERP.Z',\n",
       " 'COD21920.ION.Z',\n",
       " 'COD21920.OBX.Z',\n",
       " 'COD21920.SNX.Z',\n",
       " 'COD21920.TRO.Z',\n",
       " 'COD21920_v3.CLK.Z',\n",
       " 'COD21920_v3.CLK_05S.Z',\n",
       " 'COD21921.BIA.Z',\n",
       " 'COD21921.CLK.Z',\n",
       " 'COD21921.CLK_05S.Z',\n",
       " 'COD21921.EPH.Z',\n",
       " 'COD21921.ERP.Z',\n",
       " 'COD21921.ION.Z',\n",
       " 'COD21921.OBX.Z',\n",
       " 'COD21921.SNX.Z',\n",
       " 'COD21921.TRO.Z',\n",
       " 'COD21921_v3.CLK.Z',\n",
       " 'COD21921_v3.CLK_05S.Z',\n",
       " 'COD21922.BIA.Z',\n",
       " 'COD21922.CLK.Z',\n",
       " 'COD21922.CLK_05S.Z',\n",
       " 'COD21922.EPH.Z',\n",
       " 'COD21922.ERP.Z',\n",
       " 'COD21922.ION.Z',\n",
       " 'COD21922.OBX.Z',\n",
       " 'COD21922.SNX.Z',\n",
       " 'COD21922.TRO.Z',\n",
       " 'COD21922_v3.CLK.Z',\n",
       " 'COD21922_v3.CLK_05S.Z',\n",
       " 'COD21923.BIA.Z',\n",
       " 'COD21923.CLK.Z',\n",
       " 'COD21923.CLK_05S.Z',\n",
       " 'COD21923.EPH.Z',\n",
       " 'COD21923.ERP.Z',\n",
       " 'COD21923.ION.Z',\n",
       " 'COD21923.OBX.Z',\n",
       " 'COD21923.SNX.Z',\n",
       " 'COD21923.TRO.Z',\n",
       " 'COD21923_v3.CLK.Z',\n",
       " 'COD21923_v3.CLK_05S.Z',\n",
       " 'COD21924.BIA.Z',\n",
       " 'COD21924.CLK.Z',\n",
       " 'COD21924.CLK_05S.Z',\n",
       " 'COD21924.EPH.Z',\n",
       " 'COD21924.ERP.Z',\n",
       " 'COD21924.ION.Z',\n",
       " 'COD21924.OBX.Z',\n",
       " 'COD21924.SNX.Z',\n",
       " 'COD21924.TRO.Z',\n",
       " 'COD21924_v3.CLK.Z',\n",
       " 'COD21924_v3.CLK_05S.Z',\n",
       " 'COD21925.BIA.Z',\n",
       " 'COD21925.CLK.Z',\n",
       " 'COD21925.CLK_05S.Z',\n",
       " 'COD21925.EPH.Z',\n",
       " 'COD21925.ERP.Z',\n",
       " 'COD21925.ION.Z',\n",
       " 'COD21925.OBX.Z',\n",
       " 'COD21925.SNX.Z',\n",
       " 'COD21925.TRO.Z',\n",
       " 'COD21925_v3.CLK.Z',\n",
       " 'COD21925_v3.CLK_05S.Z',\n",
       " 'COD21926.BIA.Z',\n",
       " 'COD21926.CLK.Z',\n",
       " 'COD21926.CLK_05S.Z',\n",
       " 'COD21926.EPH.Z',\n",
       " 'COD21926.ERP.Z',\n",
       " 'COD21926.ION.Z',\n",
       " 'COD21926.OBX.Z',\n",
       " 'COD21926.SNX.Z',\n",
       " 'COD21926.TRO.Z',\n",
       " 'COD21926_v3.CLK.Z',\n",
       " 'COD21926_v3.CLK_05S.Z',\n",
       " 'COD21927.ERP.Z',\n",
       " 'COD21927.SNX.Z',\n",
       " 'COD21927.SUM.Z',\n",
       " 'COD21930.BIA.Z',\n",
       " 'COD21930.CLK.Z',\n",
       " 'COD21930.CLK_05S.Z',\n",
       " 'COD21930.EPH.Z',\n",
       " 'COD21930.ERP.Z',\n",
       " 'COD21930.ION.Z',\n",
       " 'COD21930.OBX.Z',\n",
       " 'COD21930.SNX.Z',\n",
       " 'COD21930.TRO.Z',\n",
       " 'COD21930_v3.CLK.Z',\n",
       " 'COD21930_v3.CLK_05S.Z',\n",
       " 'COD21931.BIA.Z',\n",
       " 'COD21931.CLK.Z',\n",
       " 'COD21931.CLK_05S.Z',\n",
       " 'COD21931.EPH.Z',\n",
       " 'COD21931.ERP.Z',\n",
       " 'COD21931.ION.Z',\n",
       " 'COD21931.OBX.Z',\n",
       " 'COD21931.SNX.Z',\n",
       " 'COD21931.TRO.Z',\n",
       " 'COD21931_v3.CLK.Z',\n",
       " 'COD21931_v3.CLK_05S.Z',\n",
       " 'COD21932.BIA.Z',\n",
       " 'COD21932.CLK.Z',\n",
       " 'COD21932.CLK_05S.Z',\n",
       " 'COD21932.EPH.Z',\n",
       " 'COD21932.ERP.Z',\n",
       " 'COD21932.ION.Z',\n",
       " 'COD21932.OBX.Z',\n",
       " 'COD21932.SNX.Z',\n",
       " 'COD21932.TRO.Z',\n",
       " 'COD21932_v3.CLK.Z',\n",
       " 'COD21932_v3.CLK_05S.Z',\n",
       " 'COD21933.BIA.Z',\n",
       " 'COD21933.CLK.Z',\n",
       " 'COD21933.CLK_05S.Z',\n",
       " 'COD21933.EPH.Z',\n",
       " 'COD21933.ERP.Z',\n",
       " 'COD21933.ION.Z',\n",
       " 'COD21933.OBX.Z',\n",
       " 'COD21933.SNX.Z',\n",
       " 'COD21933.TRO.Z',\n",
       " 'COD21933_v3.CLK.Z',\n",
       " 'COD21933_v3.CLK_05S.Z',\n",
       " 'COD21934.BIA.Z',\n",
       " 'COD21934.CLK.Z',\n",
       " 'COD21934.CLK_05S.Z',\n",
       " 'COD21934.EPH.Z',\n",
       " 'COD21934.ERP.Z',\n",
       " 'COD21934.ION.Z',\n",
       " 'COD21934.OBX.Z',\n",
       " 'COD21934.SNX.Z',\n",
       " 'COD21934.TRO.Z',\n",
       " 'COD21934_v3.CLK.Z',\n",
       " 'COD21934_v3.CLK_05S.Z',\n",
       " 'COD21935.BIA.Z',\n",
       " 'COD21935.CLK.Z',\n",
       " 'COD21935.CLK_05S.Z',\n",
       " 'COD21935.EPH.Z',\n",
       " 'COD21935.ERP.Z',\n",
       " 'COD21935.ION.Z',\n",
       " 'COD21935.OBX.Z',\n",
       " 'COD21935.SNX.Z',\n",
       " 'COD21935.TRO.Z',\n",
       " 'COD21935_v3.CLK.Z',\n",
       " 'COD21935_v3.CLK_05S.Z',\n",
       " 'COD21936.BIA.Z',\n",
       " 'COD21936.CLK.Z',\n",
       " 'COD21936.CLK_05S.Z',\n",
       " 'COD21936.EPH.Z',\n",
       " 'COD21936.ERP.Z',\n",
       " 'COD21936.ION.Z',\n",
       " 'COD21936.OBX.Z',\n",
       " 'COD21936.SNX.Z',\n",
       " 'COD21936.TRO.Z',\n",
       " 'COD21936_v3.CLK.Z',\n",
       " 'COD21936_v3.CLK_05S.Z',\n",
       " 'COD21937.ERP.Z',\n",
       " 'COD21937.SNX.Z',\n",
       " 'COD21937.SUM.Z',\n",
       " 'COD21940.BIA.Z',\n",
       " 'COD21940.CLK.Z',\n",
       " 'COD21940.CLK_05S.Z',\n",
       " 'COD21940.EPH.Z',\n",
       " 'COD21940.ERP.Z',\n",
       " 'COD21940.ION.Z',\n",
       " 'COD21940.OBX.Z',\n",
       " 'COD21940.SNX.Z',\n",
       " 'COD21940.TRO.Z',\n",
       " 'COD21940_v3.CLK.Z',\n",
       " 'COD21940_v3.CLK_05S.Z',\n",
       " 'COD21941.BIA.Z',\n",
       " 'COD21941.CLK.Z',\n",
       " 'COD21941.CLK_05S.Z',\n",
       " 'COD21941.EPH.Z',\n",
       " 'COD21941.ERP.Z',\n",
       " 'COD21941.ION.Z',\n",
       " 'COD21941.OBX.Z',\n",
       " 'COD21941.SNX.Z',\n",
       " 'COD21941.TRO.Z',\n",
       " 'COD21941_v3.CLK.Z',\n",
       " 'COD21941_v3.CLK_05S.Z',\n",
       " 'COD21942.BIA.Z',\n",
       " 'COD21942.CLK.Z',\n",
       " 'COD21942.CLK_05S.Z',\n",
       " 'COD21942.EPH.Z',\n",
       " 'COD21942.ERP.Z',\n",
       " 'COD21942.ION.Z',\n",
       " 'COD21942.OBX.Z',\n",
       " 'COD21942.SNX.Z',\n",
       " 'COD21942.TRO.Z',\n",
       " 'COD21942_v3.CLK.Z',\n",
       " 'COD21942_v3.CLK_05S.Z',\n",
       " 'COD21943.BIA.Z',\n",
       " 'COD21943.CLK.Z',\n",
       " 'COD21943.CLK_05S.Z',\n",
       " 'COD21943.EPH.Z',\n",
       " 'COD21943.ERP.Z',\n",
       " 'COD21943.ION.Z',\n",
       " 'COD21943.OBX.Z',\n",
       " 'COD21943.SNX.Z',\n",
       " 'COD21943.TRO.Z',\n",
       " 'COD21943_v3.CLK.Z',\n",
       " 'COD21943_v3.CLK_05S.Z',\n",
       " 'COD21944.BIA.Z',\n",
       " 'COD21944.CLK.Z',\n",
       " 'COD21944.CLK_05S.Z',\n",
       " 'COD21944.EPH.Z',\n",
       " 'COD21944.ERP.Z',\n",
       " 'COD21944.ION.Z',\n",
       " 'COD21944.OBX.Z',\n",
       " 'COD21944.SNX.Z',\n",
       " 'COD21944.TRO.Z',\n",
       " 'COD21944_v3.CLK.Z',\n",
       " 'COD21944_v3.CLK_05S.Z',\n",
       " 'COD21945.BIA.Z',\n",
       " 'COD21945.CLK.Z',\n",
       " 'COD21945.CLK_05S.Z',\n",
       " 'COD21945.EPH.Z',\n",
       " 'COD21945.ERP.Z',\n",
       " 'COD21945.ION.Z',\n",
       " 'COD21945.OBX.Z',\n",
       " 'COD21945.SNX.Z',\n",
       " 'COD21945.TRO.Z',\n",
       " 'COD21945_v3.CLK.Z',\n",
       " 'COD21945_v3.CLK_05S.Z',\n",
       " 'COD21946.BIA.Z',\n",
       " 'COD21946.CLK.Z',\n",
       " 'COD21946.CLK_05S.Z',\n",
       " 'COD21946.EPH.Z',\n",
       " 'COD21946.ERP.Z',\n",
       " 'COD21946.ION.Z',\n",
       " 'COD21946.OBX.Z',\n",
       " 'COD21946.SNX.Z',\n",
       " 'COD21946.TRO.Z',\n",
       " 'COD21946_v3.CLK.Z',\n",
       " 'COD21946_v3.CLK_05S.Z',\n",
       " 'COD21947.ERP.Z',\n",
       " 'COD21947.SNX.Z',\n",
       " 'COD21947.SUM.Z',\n",
       " 'COD21950.BIA.Z',\n",
       " 'COD21950.CLK.Z',\n",
       " 'COD21950.CLK_05S.Z',\n",
       " 'COD21950.EPH.Z',\n",
       " 'COD21950.ERP.Z',\n",
       " 'COD21950.ION.Z',\n",
       " 'COD21950.OBX.Z',\n",
       " 'COD21950.SNX.Z',\n",
       " 'COD21950.TRO.Z',\n",
       " 'COD21950_v3.CLK.Z',\n",
       " 'COD21950_v3.CLK_05S.Z',\n",
       " 'COD21951.BIA.Z',\n",
       " 'COD21951.CLK.Z',\n",
       " 'COD21951.CLK_05S.Z',\n",
       " 'COD21951.EPH.Z',\n",
       " 'COD21951.ERP.Z',\n",
       " 'COD21951.ION.Z',\n",
       " 'COD21951.OBX.Z',\n",
       " 'COD21951.SNX.Z',\n",
       " 'COD21951.TRO.Z',\n",
       " 'COD21951_v3.CLK.Z',\n",
       " 'COD21951_v3.CLK_05S.Z',\n",
       " 'COD21952.BIA.Z',\n",
       " 'COD21952.CLK.Z',\n",
       " 'COD21952.CLK_05S.Z',\n",
       " 'COD21952.EPH.Z',\n",
       " 'COD21952.ERP.Z',\n",
       " 'COD21952.ION.Z',\n",
       " 'COD21952.OBX.Z',\n",
       " 'COD21952.SNX.Z',\n",
       " 'COD21952.TRO.Z',\n",
       " 'COD21952_v3.CLK.Z',\n",
       " 'COD21952_v3.CLK_05S.Z',\n",
       " 'COD21953.BIA.Z',\n",
       " 'COD21953.CLK.Z',\n",
       " 'COD21953.CLK_05S.Z',\n",
       " 'COD21953.EPH.Z',\n",
       " 'COD21953.ERP.Z',\n",
       " 'COD21953.ION.Z',\n",
       " 'COD21953.OBX.Z',\n",
       " 'COD21953.SNX.Z',\n",
       " 'COD21953.TRO.Z',\n",
       " 'COD21953_v3.CLK.Z',\n",
       " 'COD21953_v3.CLK_05S.Z',\n",
       " 'COD21954.BIA.Z',\n",
       " 'COD21954.CLK.Z',\n",
       " 'COD21954.CLK_05S.Z',\n",
       " 'COD21954.EPH.Z',\n",
       " 'COD21954.ERP.Z',\n",
       " 'COD21954.ION.Z',\n",
       " 'COD21954.OBX.Z',\n",
       " 'COD21954.SNX.Z',\n",
       " 'COD21954.TRO.Z',\n",
       " 'COD21954_v3.CLK.Z',\n",
       " 'COD21954_v3.CLK_05S.Z',\n",
       " 'COD21955.BIA.Z',\n",
       " 'COD21955.CLK.Z',\n",
       " 'COD21955.CLK_05S.Z',\n",
       " 'COD21955.EPH.Z',\n",
       " 'COD21955.ERP.Z',\n",
       " 'COD21955.ION.Z',\n",
       " 'COD21955.OBX.Z',\n",
       " 'COD21955.SNX.Z',\n",
       " 'COD21955.TRO.Z',\n",
       " 'COD21955_v3.CLK.Z',\n",
       " 'COD21955_v3.CLK_05S.Z',\n",
       " 'COD21956.BIA.Z',\n",
       " 'COD21956.CLK.Z',\n",
       " 'COD21956.CLK_05S.Z',\n",
       " 'COD21956.EPH.Z',\n",
       " 'COD21956.ERP.Z',\n",
       " 'COD21956.ION.Z',\n",
       " 'COD21956.OBX.Z',\n",
       " 'COD21956.SNX.Z',\n",
       " 'COD21956.TRO.Z',\n",
       " 'COD21956_v3.CLK.Z',\n",
       " 'COD21956_v3.CLK_05S.Z',\n",
       " 'COD21957.ERP.Z',\n",
       " 'COD21957.SNX.Z',\n",
       " 'COD21957.SUM.Z',\n",
       " 'COD21960.BIA.Z',\n",
       " 'COD21960.CLK.Z',\n",
       " 'COD21960.CLK_05S.Z',\n",
       " 'COD21960.EPH.Z',\n",
       " 'COD21960.ERP.Z',\n",
       " 'COD21960.ION.Z',\n",
       " 'COD21960.OBX.Z',\n",
       " 'COD21960.SNX.Z',\n",
       " 'COD21960.TRO.Z',\n",
       " 'COD21960_v3.CLK.Z',\n",
       " 'COD21960_v3.CLK_05S.Z',\n",
       " 'COD21961.BIA.Z',\n",
       " 'COD21961.CLK.Z',\n",
       " 'COD21961.CLK_05S.Z',\n",
       " 'COD21961.EPH.Z',\n",
       " 'COD21961.ERP.Z',\n",
       " 'COD21961.ION.Z',\n",
       " 'COD21961.OBX.Z',\n",
       " 'COD21961.SNX.Z',\n",
       " 'COD21961.TRO.Z',\n",
       " 'COD21961_v3.CLK.Z',\n",
       " 'COD21961_v3.CLK_05S.Z',\n",
       " 'COD21962.BIA.Z',\n",
       " 'COD21962.CLK.Z',\n",
       " 'COD21962.CLK_05S.Z',\n",
       " 'COD21962.EPH.Z',\n",
       " 'COD21962.ERP.Z',\n",
       " 'COD21962.ION.Z',\n",
       " 'COD21962.OBX.Z',\n",
       " 'COD21962.SNX.Z',\n",
       " 'COD21962.TRO.Z',\n",
       " 'COD21962_v3.CLK.Z',\n",
       " 'COD21962_v3.CLK_05S.Z',\n",
       " 'COD21963.BIA.Z',\n",
       " 'COD21963.CLK.Z',\n",
       " 'COD21963.CLK_05S.Z',\n",
       " 'COD21963.EPH.Z',\n",
       " 'COD21963.ERP.Z',\n",
       " 'COD21963.ION.Z',\n",
       " 'COD21963.OBX.Z',\n",
       " 'COD21963.SNX.Z',\n",
       " 'COD21963.TRO.Z',\n",
       " 'COD21963_v3.CLK.Z',\n",
       " 'COD21963_v3.CLK_05S.Z',\n",
       " 'COD21964.BIA.Z',\n",
       " 'COD21964.CLK.Z',\n",
       " 'COD21964.CLK_05S.Z',\n",
       " 'COD21964.EPH.Z',\n",
       " 'COD21964.ERP.Z',\n",
       " 'COD21964.ION.Z',\n",
       " 'COD21964.OBX.Z',\n",
       " 'COD21964.SNX.Z',\n",
       " 'COD21964.TRO.Z',\n",
       " 'COD21964_v3.CLK.Z',\n",
       " 'COD21964_v3.CLK_05S.Z',\n",
       " 'COD21965.BIA.Z',\n",
       " 'COD21965.CLK.Z',\n",
       " 'COD21965.CLK_05S.Z',\n",
       " 'COD21965.EPH.Z',\n",
       " 'COD21965.ERP.Z',\n",
       " 'COD21965.ION.Z',\n",
       " 'COD21965.OBX.Z',\n",
       " 'COD21965.SNX.Z',\n",
       " 'COD21965.TRO.Z',\n",
       " 'COD21965_v3.CLK.Z',\n",
       " 'COD21965_v3.CLK_05S.Z',\n",
       " 'COD21966.BIA.Z',\n",
       " 'COD21966.CLK.Z',\n",
       " 'COD21966.CLK_05S.Z',\n",
       " 'COD21966.EPH.Z',\n",
       " 'COD21966.ERP.Z',\n",
       " 'COD21966.ION.Z',\n",
       " 'COD21966.OBX.Z',\n",
       " 'COD21966.SNX.Z',\n",
       " 'COD21966.TRO.Z',\n",
       " 'COD21966_v3.CLK.Z',\n",
       " 'COD21966_v3.CLK_05S.Z',\n",
       " 'COD21967.ERP.Z',\n",
       " 'COD21967.SNX.Z',\n",
       " 'COD21967.SUM.Z',\n",
       " 'COD21970.BIA.Z',\n",
       " 'COD21970.CLK.Z',\n",
       " 'COD21970.CLK_05S.Z',\n",
       " 'COD21970.EPH.Z',\n",
       " 'COD21970.ERP.Z',\n",
       " 'COD21970.ION.Z',\n",
       " 'COD21970.OBX.Z',\n",
       " 'COD21970.SNX.Z',\n",
       " 'COD21970.TRO.Z',\n",
       " 'COD21970_v3.CLK.Z',\n",
       " 'COD21970_v3.CLK_05S.Z',\n",
       " 'COD21971.BIA.Z',\n",
       " 'COD21971.CLK.Z',\n",
       " 'COD21971.CLK_05S.Z',\n",
       " 'COD21971.EPH.Z',\n",
       " 'COD21971.ERP.Z',\n",
       " 'COD21971.ION.Z',\n",
       " 'COD21971.OBX.Z',\n",
       " 'COD21971.SNX.Z',\n",
       " 'COD21971.TRO.Z',\n",
       " 'COD21971_v3.CLK.Z',\n",
       " 'COD21971_v3.CLK_05S.Z',\n",
       " 'COD21972.BIA.Z',\n",
       " 'COD21972.CLK.Z',\n",
       " 'COD21972.CLK_05S.Z',\n",
       " 'COD21972.EPH.Z',\n",
       " 'COD21972.ERP.Z',\n",
       " 'COD21972.ION.Z',\n",
       " 'COD21972.OBX.Z',\n",
       " 'COD21972.SNX.Z',\n",
       " 'COD21972.TRO.Z',\n",
       " 'COD21972_v3.CLK.Z',\n",
       " 'COD21972_v3.CLK_05S.Z',\n",
       " 'COD21973.BIA.Z',\n",
       " 'COD21973.CLK.Z',\n",
       " 'COD21973.CLK_05S.Z',\n",
       " 'COD21973.EPH.Z',\n",
       " 'COD21973.ERP.Z',\n",
       " 'COD21973.ION.Z',\n",
       " 'COD21973.OBX.Z',\n",
       " 'COD21973.SNX.Z',\n",
       " 'COD21973.TRO.Z',\n",
       " 'COD21973_v3.CLK.Z',\n",
       " 'COD21973_v3.CLK_05S.Z',\n",
       " 'COD21974.BIA.Z',\n",
       " 'COD21974.CLK.Z',\n",
       " 'COD21974.CLK_05S.Z',\n",
       " 'COD21974.EPH.Z',\n",
       " 'COD21974.ERP.Z',\n",
       " 'COD21974.ION.Z',\n",
       " 'COD21974.OBX.Z',\n",
       " 'COD21974.SNX.Z',\n",
       " 'COD21974.TRO.Z',\n",
       " 'COD21974_v3.CLK.Z',\n",
       " 'COD21974_v3.CLK_05S.Z',\n",
       " 'COD21975.BIA.Z',\n",
       " 'COD21975.CLK.Z',\n",
       " 'COD21975.CLK_05S.Z',\n",
       " 'COD21975.EPH.Z',\n",
       " 'COD21975.ERP.Z',\n",
       " 'COD21975.ION.Z',\n",
       " 'COD21975.OBX.Z',\n",
       " 'COD21975.SNX.Z',\n",
       " 'COD21975.TRO.Z',\n",
       " 'COD21975_v3.CLK.Z',\n",
       " 'COD21975_v3.CLK_05S.Z',\n",
       " 'COD21976.BIA.Z',\n",
       " 'COD21976.CLK.Z',\n",
       " 'COD21976.CLK_05S.Z',\n",
       " 'COD21976.EPH.Z',\n",
       " 'COD21976.ERP.Z',\n",
       " 'COD21976.ION.Z',\n",
       " 'COD21976.OBX.Z',\n",
       " 'COD21976.SNX.Z',\n",
       " 'COD21976.TRO.Z',\n",
       " 'COD21976_v3.CLK.Z',\n",
       " 'COD21976_v3.CLK_05S.Z',\n",
       " 'COD21977.ERP.Z',\n",
       " 'COD21977.SNX.Z',\n",
       " 'COD21977.SUM.Z',\n",
       " 'COD21980.BIA.Z',\n",
       " 'COD21980.CLK.Z',\n",
       " 'COD21980.CLK_05S.Z',\n",
       " 'COD21980.EPH.Z',\n",
       " 'COD21980.ERP.Z',\n",
       " 'COD21980.ION.Z',\n",
       " 'COD21980.OBX.Z',\n",
       " 'COD21980.SNX.Z',\n",
       " 'COD21980.TRO.Z',\n",
       " 'COD21980_v3.CLK.Z',\n",
       " 'COD21980_v3.CLK_05S.Z',\n",
       " 'COD21981.BIA.Z',\n",
       " 'COD21981.CLK.Z',\n",
       " 'COD21981.CLK_05S.Z',\n",
       " 'COD21981.EPH.Z',\n",
       " 'COD21981.ERP.Z',\n",
       " 'COD21981.ION.Z',\n",
       " 'COD21981.OBX.Z',\n",
       " 'COD21981.SNX.Z',\n",
       " 'COD21981.TRO.Z',\n",
       " 'COD21981_v3.CLK.Z',\n",
       " 'COD21981_v3.CLK_05S.Z',\n",
       " 'COD21982.BIA.Z',\n",
       " 'COD21982.CLK.Z',\n",
       " 'COD21982.CLK_05S.Z',\n",
       " 'COD21982.EPH.Z',\n",
       " 'COD21982.ERP.Z',\n",
       " 'COD21982.ION.Z',\n",
       " 'COD21982.OBX.Z',\n",
       " 'COD21982.SNX.Z',\n",
       " 'COD21982.TRO.Z',\n",
       " 'COD21982_v3.CLK.Z',\n",
       " 'COD21982_v3.CLK_05S.Z',\n",
       " 'COD21983.BIA.Z',\n",
       " 'COD21983.CLK.Z',\n",
       " 'COD21983.CLK_05S.Z',\n",
       " 'COD21983.EPH.Z',\n",
       " 'COD21983.ERP.Z',\n",
       " 'COD21983.ION.Z',\n",
       " 'COD21983.OBX.Z',\n",
       " 'COD21983.SNX.Z',\n",
       " 'COD21983.TRO.Z',\n",
       " 'COD21983_v3.CLK.Z',\n",
       " 'COD21983_v3.CLK_05S.Z',\n",
       " 'COD21984.BIA.Z',\n",
       " 'COD21984.CLK.Z',\n",
       " 'COD21984.CLK_05S.Z',\n",
       " 'COD21984.EPH.Z',\n",
       " 'COD21984.ERP.Z',\n",
       " 'COD21984.ION.Z',\n",
       " 'COD21984.OBX.Z',\n",
       " 'COD21984.SNX.Z',\n",
       " 'COD21984.TRO.Z',\n",
       " 'COD21984_v3.CLK.Z',\n",
       " 'COD21984_v3.CLK_05S.Z',\n",
       " 'COD21985.BIA.Z',\n",
       " 'COD21985.CLK.Z',\n",
       " 'COD21985.CLK_05S.Z',\n",
       " 'COD21985.EPH.Z',\n",
       " 'COD21985.ERP.Z',\n",
       " 'COD21985.ION.Z',\n",
       " 'COD21985.OBX.Z',\n",
       " 'COD21985.SNX.Z',\n",
       " 'COD21985.TRO.Z',\n",
       " 'COD21985_v3.CLK.Z',\n",
       " 'COD21985_v3.CLK_05S.Z',\n",
       " 'COD21986.BIA.Z',\n",
       " 'COD21986.CLK.Z',\n",
       " 'COD21986.CLK_05S.Z',\n",
       " 'COD21986.EPH.Z',\n",
       " 'COD21986.ERP.Z',\n",
       " 'COD21986.ION.Z',\n",
       " 'COD21986.OBX.Z',\n",
       " 'COD21986.SNX.Z',\n",
       " 'COD21986.TRO.Z',\n",
       " 'COD21986_v3.CLK.Z',\n",
       " 'COD21986_v3.CLK_05S.Z',\n",
       " 'COD21987.ERP.Z',\n",
       " 'COD21987.SNX.Z',\n",
       " 'COD21987.SUM.Z',\n",
       " 'COD21990.BIA.Z',\n",
       " 'COD21990.CLK.Z',\n",
       " 'COD21990.CLK_05S.Z',\n",
       " 'COD21990.EPH.Z',\n",
       " 'COD21990.ERP.Z',\n",
       " 'COD21990.ION.Z',\n",
       " 'COD21990.OBX.Z',\n",
       " 'COD21990.SNX.Z',\n",
       " 'COD21990.TRO.Z',\n",
       " 'COD21990_v3.CLK.Z',\n",
       " 'COD21990_v3.CLK_05S.Z',\n",
       " 'COD21991.BIA.Z',\n",
       " 'COD21991.CLK.Z',\n",
       " 'COD21991.CLK_05S.Z',\n",
       " 'COD21991.EPH.Z',\n",
       " 'COD21991.ERP.Z',\n",
       " 'COD21991.ION.Z',\n",
       " 'COD21991.OBX.Z',\n",
       " 'COD21991.SNX.Z',\n",
       " 'COD21991.TRO.Z',\n",
       " 'COD21991_v3.CLK.Z',\n",
       " 'COD21991_v3.CLK_05S.Z',\n",
       " 'COD21992.BIA.Z',\n",
       " 'COD21992.CLK.Z',\n",
       " 'COD21992.CLK_05S.Z',\n",
       " 'COD21992.EPH.Z',\n",
       " 'COD21992.ERP.Z',\n",
       " 'COD21992.ION.Z',\n",
       " 'COD21992.OBX.Z',\n",
       " 'COD21992.SNX.Z',\n",
       " 'COD21992.TRO.Z',\n",
       " 'COD21992_v3.CLK.Z',\n",
       " 'COD21992_v3.CLK_05S.Z',\n",
       " 'COD21993.BIA.Z',\n",
       " 'COD21993.CLK.Z',\n",
       " 'COD21993.CLK_05S.Z',\n",
       " 'COD21993.EPH.Z',\n",
       " 'COD21993.ERP.Z',\n",
       " 'COD21993.ION.Z',\n",
       " 'COD21993.OBX.Z',\n",
       " 'COD21993.SNX.Z',\n",
       " 'COD21993.TRO.Z',\n",
       " 'COD21993_v3.CLK.Z',\n",
       " 'COD21993_v3.CLK_05S.Z',\n",
       " 'COD21994.BIA.Z',\n",
       " 'COD21994.CLK.Z',\n",
       " 'COD21994.CLK_05S.Z',\n",
       " 'COD21994.EPH.Z',\n",
       " 'COD21994.ERP.Z',\n",
       " 'COD21994.ION.Z',\n",
       " 'COD21994.OBX.Z',\n",
       " 'COD21994.SNX.Z',\n",
       " 'COD21994.TRO.Z',\n",
       " 'COD21994_v3.CLK.Z',\n",
       " 'COD21994_v3.CLK_05S.Z',\n",
       " 'COD21995.BIA.Z',\n",
       " 'COD21995.CLK.Z',\n",
       " 'COD21995.CLK_05S.Z',\n",
       " 'COD21995.EPH.Z',\n",
       " 'COD21995.ERP.Z',\n",
       " 'COD21995.ION.Z',\n",
       " 'COD21995.OBX.Z',\n",
       " 'COD21995.SNX.Z',\n",
       " 'COD21995.TRO.Z',\n",
       " 'COD21995_v3.CLK.Z',\n",
       " 'COD21995_v3.CLK_05S.Z',\n",
       " 'COD21996.BIA.Z',\n",
       " 'COD21996.CLK.Z',\n",
       " 'COD21996.CLK_05S.Z',\n",
       " 'COD21996.EPH.Z',\n",
       " 'COD21996.ERP.Z',\n",
       " 'COD21996.ION.Z',\n",
       " 'COD21996.OBX.Z',\n",
       " 'COD21996.SNX.Z',\n",
       " 'COD21996.TRO.Z',\n",
       " 'COD21996_v3.CLK.Z',\n",
       " 'COD21996_v3.CLK_05S.Z',\n",
       " 'COD21997.ERP.Z',\n",
       " 'COD21997.SNX.Z',\n",
       " 'COD21997.SUM.Z',\n",
       " 'COD22000.BIA.Z',\n",
       " 'COD22000.CLK.Z',\n",
       " 'COD22000.CLK_05S.Z',\n",
       " 'COD22000.EPH.Z',\n",
       " 'COD22000.ERP.Z',\n",
       " 'COD22000.ION.Z',\n",
       " 'COD22000.OBX.Z',\n",
       " 'COD22000.SNX.Z',\n",
       " 'COD22000.TRO.Z',\n",
       " 'COD22000_v3.CLK.Z',\n",
       " 'COD22000_v3.CLK_05S.Z',\n",
       " 'COD22001.BIA.Z',\n",
       " 'COD22001.CLK.Z',\n",
       " 'COD22001.CLK_05S.Z',\n",
       " 'COD22001.EPH.Z',\n",
       " 'COD22001.ERP.Z',\n",
       " 'COD22001.ION.Z',\n",
       " 'COD22001.OBX.Z',\n",
       " 'COD22002.CLK.Z',\n",
       " 'COD22002.EPH.Z',\n",
       " 'COD22001.SNX.Z',\n",
       " 'COD22001.TRO.Z',\n",
       " 'COD22001_v3.CLK.Z',\n",
       " 'COD22001_v3.CLK_05S.Z',\n",
       " 'COD22002.BIA.Z',\n",
       " 'COD22002.ION.Z',\n",
       " 'COD22002.CLK_05S.Z',\n",
       " 'COD22010.ERP.Z',\n",
       " 'COD22002.ERP.Z',\n",
       " 'COD22011.SNX.Z',\n",
       " 'COD22002.OBX.Z',\n",
       " 'COD22003.BIA.Z',\n",
       " 'COD22002.TRO.Z',\n",
       " 'COD22003.ION.Z',\n",
       " 'COD22002_v3.CLK_05S.Z',\n",
       " 'COD22003.SNX.Z',\n",
       " 'COD22003.CLK.Z',\n",
       " 'COD22003.CLK_05S.Z',\n",
       " 'COD22003.EPH.Z',\n",
       " 'COD22003.ERP.Z',\n",
       " 'COD22003_v3.CLK.Z',\n",
       " 'COD22003.OBX.Z',\n",
       " 'COD22004.BIA.Z',\n",
       " 'COD22003.TRO.Z',\n",
       " 'COD22004.OBX.Z',\n",
       " 'COD22003_v3.CLK_05S.Z',\n",
       " 'COD22004.SNX.Z',\n",
       " 'COD22004.CLK.Z',\n",
       " 'COD22004.CLK_05S.Z',\n",
       " 'COD22004.EPH.Z',\n",
       " 'COD22004.ERP.Z',\n",
       " 'COD22004.ION.Z',\n",
       " 'COD22005.ION.Z',\n",
       " 'COD22005.TRO.Z',\n",
       " 'COD22004.TRO.Z',\n",
       " 'COD22004_v3.CLK.Z',\n",
       " 'COD22004_v3.CLK_05S.Z',\n",
       " 'COD22005.BIA.Z',\n",
       " 'COD22005.CLK.Z',\n",
       " 'COD22005.CLK_05S.Z',\n",
       " 'COD22005.EPH.Z',\n",
       " 'COD22005.ERP.Z',\n",
       " 'COD22006.EPH.Z',\n",
       " 'COD22005.OBX.Z',\n",
       " 'COD22005.SNX.Z',\n",
       " 'COD22010.CLK_05S.Z',\n",
       " 'COD22005_v3.CLK.Z',\n",
       " 'COD22005_v3.CLK_05S.Z',\n",
       " 'COD22006.BIA.Z',\n",
       " 'COD22006.CLK.Z',\n",
       " 'COD22006.CLK_05S.Z',\n",
       " 'COD22010.ION.Z',\n",
       " 'COD22006.ERP.Z',\n",
       " 'COD22006.ION.Z',\n",
       " 'COD22006.OBX.Z',\n",
       " 'COD22006.SNX.Z',\n",
       " 'COD22006.TRO.Z',\n",
       " 'COD22006_v3.CLK.Z',\n",
       " 'COD22006_v3.CLK_05S.Z',\n",
       " 'COD22007.ERP.Z',\n",
       " 'COD22007.SNX.Z',\n",
       " 'COD22007.SUM.Z',\n",
       " 'COD22010.BIA.Z',\n",
       " 'COD22010.CLK.Z',\n",
       " 'COD22012.ION.Z',\n",
       " 'COD22010.EPH.Z',\n",
       " 'COD22013.EPH.Z',\n",
       " 'COD22012_v3.CLK_05S.Z',\n",
       " 'COD22010.OBX.Z',\n",
       " 'COD22010.SNX.Z',\n",
       " 'COD22010.TRO.Z',\n",
       " 'COD22010_v3.CLK.Z',\n",
       " 'COD22010_v3.CLK_05S.Z',\n",
       " 'COD22011.BIA.Z',\n",
       " 'COD22011.CLK.Z',\n",
       " 'COD22011.CLK_05S.Z',\n",
       " 'COD22011.EPH.Z',\n",
       " 'COD22011.ERP.Z',\n",
       " 'COD22011.ION.Z',\n",
       " 'COD22011.OBX.Z',\n",
       " 'COD22016.SNX.Z',\n",
       " 'COD22011.TRO.Z',\n",
       " 'COD22011_v3.CLK.Z',\n",
       " 'COD22011_v3.CLK_05S.Z',\n",
       " 'COD22012.BIA.Z',\n",
       " 'COD22012.CLK.Z',\n",
       " 'COD22012.CLK_05S.Z',\n",
       " 'COD22012.EPH.Z',\n",
       " 'COD22012.ERP.Z',\n",
       " 'COD22013.SNX.Z',\n",
       " 'COD22012.OBX.Z',\n",
       " 'COD22012.SNX.Z',\n",
       " 'COD22012.TRO.Z',\n",
       " 'COD22012_v3.CLK.Z',\n",
       " 'COD22022.CLK.Z',\n",
       " 'COD22013.BIA.Z',\n",
       " 'COD22013.CLK.Z',\n",
       " 'COD22013.CLK_05S.Z',\n",
       " 'COD22020.CLK.Z',\n",
       " 'COD22013.ERP.Z',\n",
       " 'COD22013.ION.Z',\n",
       " 'COD22013.OBX.Z',\n",
       " 'COD22016.BIA.Z',\n",
       " 'COD22013.TRO.Z',\n",
       " 'COD22013_v3.CLK.Z',\n",
       " 'COD22013_v3.CLK_05S.Z',\n",
       " 'COD22014.BIA.Z',\n",
       " 'COD22014.CLK.Z',\n",
       " 'COD22014.CLK_05S.Z',\n",
       " 'COD22014.EPH.Z',\n",
       " 'COD22014.ERP.Z',\n",
       " 'COD22014.ION.Z',\n",
       " 'COD22014.OBX.Z',\n",
       " 'COD22014.SNX.Z',\n",
       " 'COD22014.TRO.Z',\n",
       " 'COD22014_v3.CLK.Z',\n",
       " 'COD22014_v3.CLK_05S.Z',\n",
       " 'COD22015.BIA.Z',\n",
       " 'COD22015.CLK.Z',\n",
       " 'COD22015.CLK_05S.Z',\n",
       " 'COD22015.EPH.Z',\n",
       " 'COD22015.ERP.Z',\n",
       " 'COD22015.ION.Z',\n",
       " 'COD22015.OBX.Z',\n",
       " 'COD22015.SNX.Z',\n",
       " 'COD22015.TRO.Z',\n",
       " 'COD22015_v3.CLK.Z',\n",
       " 'COD22015_v3.CLK_05S.Z',\n",
       " 'COD22021.BIA.Z',\n",
       " 'COD22016.CLK.Z',\n",
       " 'COD22016.CLK_05S.Z',\n",
       " 'COD22016.EPH.Z',\n",
       " 'COD22016.ERP.Z',\n",
       " ...]"
      ]
     },
     "execution_count": 22,
     "metadata": {},
     "output_type": "execute_result"
    }
   ],
   "source": [
    "aiub.cwd('/CODE/2022')\n",
    "aiub.nlst()"
   ]
  },
  {
   "cell_type": "code",
   "execution_count": 8,
   "metadata": {},
   "outputs": [
    {
     "name": "stdout",
     "output_type": "stream",
     "text": [
      "FTP Dir: /CODE/2022, Local Dir: /media/abhishek/DATA/open_source/bernese_automation\n"
     ]
    }
   ],
   "source": [
    "clk(download_folder, aiub, 'iisc', 2022, 4)"
   ]
  },
  {
   "cell_type": "code",
   "execution_count": 9,
   "metadata": {},
   "outputs": [
    {
     "name": "stdout",
     "output_type": "stream",
     "text": [
      "FTP Dir: /CODE/2022, Local Dir: /media/abhishek/DATA/open_source/bernese_automation\n"
     ]
    }
   ],
   "source": [
    "eph(download_folder, aiub, 'iisc', 2022, 105)"
   ]
  },
  {
   "cell_type": "code",
   "execution_count": 10,
   "metadata": {},
   "outputs": [
    {
     "name": "stdout",
     "output_type": "stream",
     "text": [
      "FTP Dir: /CODE/2022, Local Dir: /media/abhishek/DATA/open_source/bernese_automation\n"
     ]
    }
   ],
   "source": [
    "erp(download_folder, aiub, 'iisc', 2022, 222)"
   ]
  },
  {
   "cell_type": "code",
   "execution_count": 11,
   "metadata": {},
   "outputs": [
    {
     "name": "stdout",
     "output_type": "stream",
     "text": [
      "FTP Dir: /CODE/2022, Local Dir: /media/abhishek/DATA/open_source/bernese_automation\n"
     ]
    }
   ],
   "source": [
    "ion(download_folder, aiub, 'iisc', 2022, 310)"
   ]
  },
  {
   "cell_type": "markdown",
   "metadata": {},
   "source": [
    "#### RINEX Files\n",
    "- ftp://garner.ucsd.edu/pub/rinex\n",
    "- https://cddis.nasa.gov/archive/gnss/"
   ]
  },
  {
   "cell_type": "markdown",
   "metadata": {},
   "source": [
    "# RINEX Files"
   ]
  },
  {
   "cell_type": "code",
   "execution_count": 3,
   "metadata": {},
   "outputs": [
    {
     "name": "stdout",
     "output_type": "stream",
     "text": [
      "220 Welcome to SOPAC FTP service. Please use anonymous as the login name and a real email address as the password.\n"
     ]
    }
   ],
   "source": [
    "sopac = login_sopac()"
   ]
  },
  {
   "cell_type": "code",
   "execution_count": 4,
   "metadata": {},
   "outputs": [],
   "source": [
    "test_downloads = '/media/abhishek/DATA/open_source/bernese_automation/test_downloads'"
   ]
  },
  {
   "cell_type": "code",
   "execution_count": 12,
   "metadata": {},
   "outputs": [
    {
     "name": "stdout",
     "output_type": "stream",
     "text": [
      "Help on function sopac_rinex in module AutoBERN.igs_rinex:\n",
      "\n",
      "sopac_rinex(download_dir, session, station, year, doy)\n",
      "    _summary_\n",
      "    \n",
      "    Args:\n",
      "        download_dir (_type_): _description_\n",
      "        session (_type_): _description_\n",
      "        station (_type_): _description_\n",
      "        year (_type_): _description_\n",
      "        doy (_type_): _description_\n",
      "    \n",
      "    Raises:\n",
      "        ValueError: _description_\n",
      "\n"
     ]
    }
   ],
   "source": [
    "help(sopac_rinex)"
   ]
  },
  {
   "cell_type": "code",
   "execution_count": 6,
   "metadata": {},
   "outputs": [
    {
     "name": "stdout",
     "output_type": "stream",
     "text": [
      "FTP Dir: /archive/garner/rinex/2022/111, Local Dir: /media/abhishek/DATA/open_source/bernese_automation\n"
     ]
    }
   ],
   "source": [
    "sopac_rinex(download_dir=test_downloads, session=sopac, station='iisc', year=2022, doy=111)"
   ]
  },
  {
   "cell_type": "code",
   "execution_count": 5,
   "metadata": {},
   "outputs": [
    {
     "name": "stdout",
     "output_type": "stream",
     "text": [
      "220 Welcome to SOPAC FTP service. Please use anonymous as the login name and a real email address as the password.\n"
     ]
    },
    {
     "name": "stderr",
     "output_type": "stream",
     "text": [
      "  0%|          | 0/11 [00:00<?, ?it/s]"
     ]
    },
    {
     "name": "stdout",
     "output_type": "stream",
     "text": [
      "FTP Dir: /archive/garner/rinex/2022/085, Local Dir: /media/abhishek/DATA/open_source/bernese_automation\n"
     ]
    },
    {
     "name": "stderr",
     "output_type": "stream",
     "text": [
      "  9%|▉         | 1/11 [00:06<01:05,  6.59s/it]"
     ]
    },
    {
     "name": "stdout",
     "output_type": "stream",
     "text": [
      "FTP Dir: /archive/garner/rinex/2022/086, Local Dir: /media/abhishek/DATA/open_source/bernese_automation\n"
     ]
    },
    {
     "name": "stderr",
     "output_type": "stream",
     "text": [
      " 18%|█▊        | 2/11 [00:12<00:55,  6.15s/it]"
     ]
    },
    {
     "name": "stdout",
     "output_type": "stream",
     "text": [
      "FTP Dir: /archive/garner/rinex/2022/087, Local Dir: /media/abhishek/DATA/open_source/bernese_automation\n"
     ]
    },
    {
     "name": "stderr",
     "output_type": "stream",
     "text": [
      " 27%|██▋       | 3/11 [00:18<00:49,  6.14s/it]"
     ]
    },
    {
     "name": "stdout",
     "output_type": "stream",
     "text": [
      "FTP Dir: /archive/garner/rinex/2022/088, Local Dir: /media/abhishek/DATA/open_source/bernese_automation\n"
     ]
    },
    {
     "name": "stderr",
     "output_type": "stream",
     "text": [
      " 36%|███▋      | 4/11 [00:25<00:46,  6.59s/it]"
     ]
    },
    {
     "name": "stdout",
     "output_type": "stream",
     "text": [
      "FTP Dir: /archive/garner/rinex/2022/089, Local Dir: /media/abhishek/DATA/open_source/bernese_automation\n"
     ]
    },
    {
     "name": "stderr",
     "output_type": "stream",
     "text": [
      " 45%|████▌     | 5/11 [00:31<00:38,  6.42s/it]"
     ]
    },
    {
     "name": "stdout",
     "output_type": "stream",
     "text": [
      "FTP Dir: /archive/garner/rinex/2022/090, Local Dir: /media/abhishek/DATA/open_source/bernese_automation\n"
     ]
    },
    {
     "name": "stderr",
     "output_type": "stream",
     "text": [
      " 55%|█████▍    | 6/11 [00:39<00:33,  6.78s/it]"
     ]
    },
    {
     "name": "stdout",
     "output_type": "stream",
     "text": [
      "FTP Dir: /archive/garner/rinex/2022/091, Local Dir: /media/abhishek/DATA/open_source/bernese_automation\n"
     ]
    },
    {
     "name": "stderr",
     "output_type": "stream",
     "text": [
      " 64%|██████▎   | 7/11 [00:45<00:26,  6.56s/it]"
     ]
    },
    {
     "name": "stdout",
     "output_type": "stream",
     "text": [
      "FTP Dir: /archive/garner/rinex/2022/092, Local Dir: /media/abhishek/DATA/open_source/bernese_automation\n"
     ]
    },
    {
     "name": "stderr",
     "output_type": "stream",
     "text": [
      " 73%|███████▎  | 8/11 [00:52<00:20,  6.71s/it]"
     ]
    },
    {
     "name": "stdout",
     "output_type": "stream",
     "text": [
      "FTP Dir: /archive/garner/rinex/2022/093, Local Dir: /media/abhishek/DATA/open_source/bernese_automation\n"
     ]
    },
    {
     "name": "stderr",
     "output_type": "stream",
     "text": [
      " 82%|████████▏ | 9/11 [00:58<00:13,  6.61s/it]"
     ]
    },
    {
     "name": "stdout",
     "output_type": "stream",
     "text": [
      "FTP Dir: /archive/garner/rinex/2022/094, Local Dir: /media/abhishek/DATA/open_source/bernese_automation\n"
     ]
    },
    {
     "name": "stderr",
     "output_type": "stream",
     "text": [
      " 91%|█████████ | 10/11 [01:05<00:06,  6.64s/it]"
     ]
    },
    {
     "name": "stdout",
     "output_type": "stream",
     "text": [
      "FTP Dir: /archive/garner/rinex/2022/095, Local Dir: /media/abhishek/DATA/open_source/bernese_automation\n"
     ]
    },
    {
     "name": "stderr",
     "output_type": "stream",
     "text": [
      "100%|██████████| 11/11 [01:12<00:00,  6.62s/it]\n",
      "100%|██████████| 1/1 [00:00<00:00, 3271.69it/s]\n"
     ]
    }
   ],
   "source": [
    "sopac_bulk_rinex(test_downloads, 'iisc', 2022, 85, 2022, 95)"
   ]
  },
  {
   "cell_type": "code",
   "execution_count": 13,
   "metadata": {},
   "outputs": [
    {
     "name": "stdout",
     "output_type": "stream",
     "text": [
      "Help on function sopac_bulk_download in module AutoBERN.igs_rinex:\n",
      "\n",
      "sopac_bulk_download(download_dir, station, start_year, start_doy, end_year, end_doy)\n",
      "    _summary_\n",
      "    \n",
      "    Args:\n",
      "        download_dir (_type_): _description_\n",
      "        station (_type_): _description_\n",
      "        start_year (_type_): _description_\n",
      "        start_doy (_type_): _description_\n",
      "        end_year (_type_): _description_\n",
      "        end_doy (_type_): _description_\n",
      "    \n",
      "    Raises:\n",
      "        ValueError: _description_\n",
      "\n"
     ]
    }
   ],
   "source": [
    "help(sopac_bulk_rinex)"
   ]
  },
  {
   "cell_type": "code",
   "execution_count": 5,
   "metadata": {},
   "outputs": [
    {
     "name": "stdout",
     "output_type": "stream",
     "text": [
      "220 Welcome to SOPAC FTP service. Please use anonymous as the login name and a real email address as the password.\n"
     ]
    },
    {
     "name": "stderr",
     "output_type": "stream",
     "text": [
      "  0%|          | 0/2 [00:00<?, ?it/s]"
     ]
    },
    {
     "name": "stdout",
     "output_type": "stream",
     "text": [
      "FTP Dir: /archive/garner/rinex/2022/365, Local Dir: /media/abhishek/DATA/open_source/bernese_automation\n"
     ]
    },
    {
     "name": "stderr",
     "output_type": "stream",
     "text": [
      "100%|██████████| 2/2 [00:08<00:00,  4.27s/it]\n",
      " 50%|█████     | 1/2 [00:08<00:08,  8.55s/it]"
     ]
    },
    {
     "name": "stdout",
     "output_type": "stream",
     "text": [
      "File Not Found - iitk data for 2022 and day 366 - skipping!\n"
     ]
    },
    {
     "name": "stderr",
     "output_type": "stream",
     "text": []
    },
    {
     "name": "stdout",
     "output_type": "stream",
     "text": [
      "FTP Dir: /archive/garner/rinex/2022/001, Local Dir: /media/abhishek/DATA/open_source/bernese_automation\n"
     ]
    },
    {
     "name": "stderr",
     "output_type": "stream",
     "text": []
    },
    {
     "name": "stdout",
     "output_type": "stream",
     "text": [
      "FTP Dir: /archive/garner/rinex/2022/002, Local Dir: /media/abhishek/DATA/open_source/bernese_automation\n"
     ]
    },
    {
     "name": "stderr",
     "output_type": "stream",
     "text": []
    },
    {
     "name": "stdout",
     "output_type": "stream",
     "text": [
      "FTP Dir: /archive/garner/rinex/2022/003, Local Dir: /media/abhishek/DATA/open_source/bernese_automation\n"
     ]
    },
    {
     "name": "stderr",
     "output_type": "stream",
     "text": []
    },
    {
     "name": "stdout",
     "output_type": "stream",
     "text": [
      "FTP Dir: /archive/garner/rinex/2022/004, Local Dir: /media/abhishek/DATA/open_source/bernese_automation\n"
     ]
    },
    {
     "name": "stderr",
     "output_type": "stream",
     "text": []
    },
    {
     "name": "stdout",
     "output_type": "stream",
     "text": [
      "FTP Dir: /archive/garner/rinex/2022/005, Local Dir: /media/abhishek/DATA/open_source/bernese_automation\n"
     ]
    },
    {
     "name": "stderr",
     "output_type": "stream",
     "text": []
    },
    {
     "name": "stdout",
     "output_type": "stream",
     "text": [
      "FTP Dir: /archive/garner/rinex/2022/006, Local Dir: /media/abhishek/DATA/open_source/bernese_automation\n"
     ]
    },
    {
     "name": "stderr",
     "output_type": "stream",
     "text": []
    },
    {
     "name": "stdout",
     "output_type": "stream",
     "text": [
      "FTP Dir: /archive/garner/rinex/2022/007, Local Dir: /media/abhishek/DATA/open_source/bernese_automation\n"
     ]
    },
    {
     "name": "stderr",
     "output_type": "stream",
     "text": [
      "100%|██████████| 7/7 [00:44<00:00,  6.40s/it]\n",
      "100%|██████████| 2/2 [00:53<00:00, 26.67s/it]\n"
     ]
    }
   ],
   "source": [
    "sopac_bulk_rinex(test_downloads, 'iitk', 2022, 365, 2023, 7)"
   ]
  },
  {
   "cell_type": "code",
   "execution_count": null,
   "metadata": {},
   "outputs": [],
   "source": []
  }
 ],
 "metadata": {
  "kernelspec": {
   "display_name": "geoenv",
   "language": "python",
   "name": "python3"
  },
  "language_info": {
   "codemirror_mode": {
    "name": "ipython",
    "version": 3
   },
   "file_extension": ".py",
   "mimetype": "text/x-python",
   "name": "python",
   "nbconvert_exporter": "python",
   "pygments_lexer": "ipython3",
   "version": "3.11.0"
  }
 },
 "nbformat": 4,
 "nbformat_minor": 2
}
