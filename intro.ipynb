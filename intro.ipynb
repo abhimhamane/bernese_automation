{
 "cells": [
  {
   "cell_type": "markdown",
   "metadata": {},
   "source": [
    "# Bernese Automation"
   ]
  },
  {
   "cell_type": "code",
   "execution_count": 1,
   "metadata": {},
   "outputs": [],
   "source": [
    "import requests\n",
    "from bs4 import BeautifulSoup\n",
    "import wget\n",
    "import os\n",
    "from tqdm import tqdm\n",
    "import sys\n",
    "from ftplib import FTP_TLS\n",
    "import re\n",
    "import igs_cddis_ftputils"
   ]
  },
  {
   "cell_type": "markdown",
   "metadata": {},
   "source": [
    "## Step - 1: Path Setup"
   ]
  },
  {
   "cell_type": "code",
   "execution_count": 1,
   "metadata": {},
   "outputs": [],
   "source": [
    "BERN52PATH = \"\"\n",
    "DATAPOOLPATH = \"\"\n",
    "CAMPAIGN52PATH = \"\""
   ]
  },
  {
   "cell_type": "code",
   "execution_count": 3,
   "metadata": {},
   "outputs": [],
   "source": [
    "# IGS Station names\n",
    "IGS = ['']\n",
    "# CORS Station names"
   ]
  },
  {
   "cell_type": "markdown",
   "metadata": {},
   "source": [
    "# Download IGS Site Data"
   ]
  },
  {
   "cell_type": "code",
   "execution_count": 35,
   "metadata": {},
   "outputs": [
    {
     "name": "stdout",
     "output_type": "stream",
     "text": [
      "['/index.html', '/About/Background.html', '/About/Background.html', '/About/Background.html', '/About/Data_citation_and_acknowledgment.html', '/About/Meetings.html', '/About/Links.html', '/About/FAQ.html', '/About/Acronyms.html', '/About/Staff.html', '/About/ContactUs.html', '/Data_and_Derived_Products/index.html', '/Data_and_Derived_Products/index.html', '/Data_and_Derived_Products/GNSS/GNSS_data_and_product_archive.html', '/Data_and_Derived_Products/SLR/SLR_data_and_product_archive.html', '/Data_and_Derived_Products/VLBI/VLBI_data_and_product_archive.html', '/Data_and_Derived_Products/DORIS/DORIS_data_and_product_archive.html', '/Data_and_Derived_Products/CDDIS_Earthdata_Search.html', '/Data_and_Derived_Products/CDDIS_Archive_Access.html', '/Data_and_Derived_Products/Reports.html', '/Techniques/index.html', '/Techniques/index.html', '/Techniques/GNSS/GNSS_Overview.html', '/Techniques/SLR/SLR_Overview.html', '/Techniques/VLBI/VLBI_Overview.html', '/Techniques/DORIS/DORIS_Overview.html', '/Programs/Current_Programs.html', '/Programs/Current_Programs.html', '/Programs/Current_Programs.html', '/Programs/Historical_Programs.html', '/Publications/Presentations.html', '/Publications/Presentations.html', '/Publications/Presentations.html', '/Publications/Papers.html', '/About/Data_citation_and_acknowledgment.html', '..', 'CKSV00TWN_R_20180400000_01D_30S_MO.rnx.gz ', 'KMNM00TWN_R_20180400000_01D_30S_MO.rnx.gz ', 'MD5SUMS ', 'SHA512SUMS ', 'TWTF00TWN_R_20180400000_01D_30S_MO.rnx.gz ', 'aber0400.18o.Z ', 'abmf0400.18o.Z ', 'adis0400.18o.Z ', 'aggo0400.18o.Z ', 'aira0400.18o.Z ', 'ajac0400.18o.Z ', 'al2h0400.18o.gz ', 'albh0400.18o.Z ', 'alg20400.18o.Z ', 'alg30400.18o.Z ', 'algo0400.18o.Z ', 'alic0400.18o.Z ', 'alrt0400.18o.Z ', 'amc20400.18o.Z ', 'amu20400.18o.Z ', 'ankr0400.18o.Z ', 'antc0400.18o.Z ', 'areg0400.18o.Z ', 'artu0400.18o.Z ', 'aruc0400.18o.Z ', 'ascg0400.18o.Z ', 'aspa0400.18o.Z ', 'auck0400.18o.Z ', 'aukt0400.18o.Z ', 'azu10400.18o.Z ', 'badg0400.18o.Z ', 'baib0400.18o.gz ', 'baie0400.18o.Z ', 'bake0400.18o.Z ', 'bako0400.18o.Z ', 'bamf0400.18o.Z ', 'barh0400.18o.Z ', 'bcov0400.18o.Z ', 'bhr30400.18o.Z ', 'bhr40400.18o.Z ', 'bik00400.18o.Z ', 'bilb0400.18o.Z ', 'bill0400.18o.Z ', 'bjco0400.18o.Z ', 'bjfs0400.18o.Z ', 'bjnm0400.18o.Z ', 'blyt0400.18o.Z ', 'bnab0400.18o.gz ', 'bogi0400.18o.Z ', 'bogt0400.18o.Z ', 'bor10400.18o.Z ', 'braz0400.18o.Z ', 'brew0400.18o.Z ', 'brft0400.18o.Z ', 'brmu0400.18o.Z ', 'brst0400.18o.Z ', 'brux0400.18o.Z ', 'bshm0400.18o.Z ', 'budp0400.18o.Z ', 'bzrg0400.18o.Z ', 'cags0400.18o.Z ', 'cart0400.18o.gz ', 'cas10400.18o.Z ', 'cata0400.18o.Z ', 'ccj20400.18o.Z ', 'cebr0400.18o.Z ', 'cedu0400.18o.Z ', 'chac0400.18o.Z ', 'chan0400.18o.Z ', 'chil0400.18o.Z ', 'chpg0400.18o.Z ', 'chpi0400.18o.Z ', 'chti0400.18o.Z ', 'chu20400.18o.Z ', 'chum0400.18o.Z ', 'chur0400.18o.Z ', 'chwk0400.18o.Z ', 'cibg0400.18o.Z ', 'cit10400.18o.Z ', 'ckis0400.18o.Z ', 'cksv0400.18o.Z ', 'clar0400.18o.Z ', 'clrs0400.18o.Z ', 'cmp90400.18o.Z ', 'cnmr0400.18o.Z ', 'coco0400.18o.Z ', 'cord0400.18o.Z ', 'cote0400.18o.Z ', 'coyq0400.18o.Z ', 'cpvg0400.18o.Z ', 'crao0400.18o.Z ', 'crfp0400.18o.Z ', 'cro10400.18o.Z ', 'cusv0400.18o.Z ', 'cut00400.18o.Z ', 'cztg0400.18o.Z ', 'daej0400.18o.Z ', 'dakr0400.18o.Z ', 'darw0400.18o.Z ', 'dav10400.18o.Z ', 'dear0400.18o.Z ', 'dgar0400.18o.Z ', 'dhlg0400.18o.Z ', 'djig0400.18o.Z ', 'dlf10400.18o.Z ', 'dr2o0400.18o.gz ', 'dra30400.18o.Z ', 'dra40400.18o.Z ', 'drag0400.18o.Z ', 'drao0400.18o.Z ', 'ds130400.18o.Z ', 'dubo0400.18o.Z ', 'dund0400.18o.Z ', 'dunt0400.18o.Z ', 'dyng0400.18o.Z ', 'ebre0400.18o.Z ', 'eil30400.18o.Z ', 'eil40400.18o.Z ', 'eliz0400.18o.Z ', 'escu0400.18o.Z ', 'eur20400.18o.Z ', 'faa10400.18o.Z ', 'fair0400.18o.Z ', 'falk0400.18o.Z ', 'ffmj0400.18o.Z ', 'flin0400.18o.Z ', 'flrs0400.18o.Z ', 'frdn0400.18o.Z ', 'ftna0400.18o.Z ', 'func0400.18o.Z ', 'gamb0400.18o.Z ', 'gamg0400.18o.Z ', 'ganp0400.18o.Z ', 'gcgo0400.18o.Z ', 'geno0400.18o.Z ', 'gldr0400.18o.Z ', 'glps0400.18o.Z ', 'glsv0400.18o.Z ', 'gmsd0400.18o.Z ', 'gode0400.18o.Z ', 'godn0400.18o.Z ', 'godr0400.18o.Z ', 'godz0400.18o.Z ', 'gol20400.18o.Z ', 'gold0400.18o.Z ', 'gop60400.18o.Z ', 'gop70400.18o.Z ', 'gope0400.18o.Z ', 'goro0400.18o.Z ', 'grac0400.18o.Z ', 'gras0400.18o.Z ', 'graz0400.18o.Z ', 'guam0400.18o.Z ', 'guat0400.18o.Z ', 'guug0400.18o.Z ', 'haly0400.18o.Z ', 'harb0400.18o.Z ', 'her20400.18o.Z ', 'hers0400.18o.Z ', 'hert0400.18o.Z ', 'hghn0400.18o.Z ', 'hksl0400.18o.Z ', 'hkws0400.18o.Z ', 'hlfx0400.18o.Z ', 'hlob0400.18o.Z ', 'hnlc0400.18o.Z ', 'hnpt0400.18o.Z ', 'hnus0400.18o.Z ', 'hob20400.18o.Z ', 'hofn0400.18o.Z ', 'hoki0400.18o.Z ', 'holb0400.18o.Z ', 'holm0040.18o.gz ', 'holm0400.18o.gz ', 'holp0400.18o.Z ', 'hrao0400.18o.Z ', 'hueg0400.18o.Z ', 'hyde0400.18o.Z ', 'ieng0400.18o.Z ', 'iisc0400.18o.Z ', 'ineg0400.18o.Z ', 'invk0400.18o.Z ', 'ipaz0400.18o.Z ', 'iqal0400.18o.Z ', 'irkj0400.18o.Z ', 'irkm0400.18o.Z ', 'isba0400.18o.Z ', 'isco0400.18o.Z ', 'ishi0040.18o.Z ', 'ishi0400.18o.Z ', 'ista0400.18o.Z ', 'izmi0400.18o.Z ', 'jfng0400.18o.Z ', 'jog20400.18o.Z ', 'jord0400.18o.gz ', 'joz20400.18o.Z ', 'joze0400.18o.Z ', 'jplm0400.18o.Z ', 'karr0400.18o.Z ', 'kat10400.18o.Z ', 'kaza0400.18o.Z ', 'kely0400.18o.Z ', 'kerg0400.18o.Z ', 'kgni0400.18o.Z ', 'khar0400.18o.Z ', 'kir00400.18o.Z ', 'kir80400.18o.Z ', 'kiri0400.18o.Z ', 'kiru0400.18o.Z ', 'kitg0400.18o.Z ', 'kmnm0400.18o.Z ', 'kokb0400.18o.Z ', 'kokr0400.18o.Z ', 'kokv0400.18o.Z ', 'kos10400.18o.Z ', 'kouc0400.18o.Z ', 'koug0400.18o.Z ', 'kour0400.18o.Z ', 'krgg0400.18o.Z ', 'krs10400.18o.Z ', 'ksmv0400.18o.Z ', 'kuuj0400.18o.Z ', 'lama0400.18o.Z ', 'laut0400.18o.Z ', 'lbch0400.18o.Z ', 'lcap0400.18o.Z ', 'lck30400.18o.Z ', 'lck40400.18o.Z ', 'leij0400.18o.Z ', 'lfoa0400.18o.Z ', 'lhaz0400.18o.Z ', 'lmmf0400.18o.Z ', 'lovj0400.18o.Z ', 'lpal0400.18o.Z ', 'lpgs0400.18o.Z ', 'lpil0400.18o.Z ', 'lpoc0400.18o.Z ', 'lroc0400.18o.Z ', 'lytt0400.18o.Z ', 'm0se0400.18o.Z ', 'mac10400.18o.Z ', 'mad20400.18o.Z ', 'madr0400.18o.Z ', 'mag00400.18o.Z ', 'maju0400.18o.Z ', 'mal20400.18o.Z ', 'mana0400.18o.Z ', 'mar60400.18o.Z ', 'mar70400.18o.Z ', 'marn0400.18o.Z ', 'mars0400.18o.Z ', 'mas10400.18o.Z ', 'mat10400.18o.Z ', 'mate0400.18o.Z ', 'matz0400.18o.Z ', 'maui0400.18o.Z ', 'maw10400.18o.Z ', 'mayg0400.18o.Z ', 'mbar0400.18o.Z ', 'mchl0400.18o.Z ', 'mcm40400.18o.Z ', 'mdo10400.18o.Z ', 'mdvj0400.18o.Z ', 'medi0400.18o.Z ', 'meli0400.18o.Z ', 'meri0400.18o.Z ', 'mers0400.18o.Z ', 'met30400.18o.Z ', 'metg0400.18o.Z ', 'mets0400.18o.Z ', 'mfkg0400.18o.Z ', 'mgue0400.18o.Z ', 'mikl0400.18o.Z ', 'mizu0400.18o.Z ', 'mkea0400.18o.Z ', 'mobj0400.18o.Z ', 'mobk0400.18o.Z ', 'mobn0400.18o.Z ', 'mobs0400.18o.Z ', 'moiu0400.18o.Z ', 'monp0400.18o.Z ', 'morp0400.18o.Z ', 'mqzg0400.18o.Z ', 'mrc10400.18o.Z ', 'mrl10400.18o.Z ', 'mro10400.18o.Z ', 'mtka0400.18o.Z ', 'mtv10400.18o.Z ', 'mtv20400.18o.Z ', 'mty20400.18o.Z ', 'myra0400.18o.gz ', 'nain0400.18o.Z ', 'nano0400.18o.Z ', 'nas00400.18o.Z ', 'naur0400.18o.Z ', 'newl0400.18o.Z ', 'nico0400.18o.Z ', 'nist0400.18o.Z ', 'nium0400.18o.Z ', 'nklg0400.18o.Z ', 'nlib0400.18o.Z ', 'nmea0400.18o.Z ', 'nnor0400.18o.Z ', 'not10400.18o.Z ', 'novm0400.18o.Z ', 'nply0400.18o.Z ', 'nrc10400.18o.Z ', 'nril0400.18o.Z ', 'nrmd0400.18o.Z ', 'nrmg0400.18o.Z ', 'ntka0400.18o.Z ', 'ntus0400.18o.Z ', 'ntz10400.18o.Z ', 'nvsk0400.18o.Z ', 'nya10400.18o.Z ', 'nya20400.18o.Z ', 'nyal0400.18o.Z ', 'oak10400.18o.Z ', 'oak20400.18o.Z ', 'oax20400.18o.Z ', 'obe40400.18o.Z ', 'ohi20400.18o.Z ', 'ohi30400.18o.Z ', 'ons10400.18o.Z ', 'onsa0400.18o.Z ', 'opmt0400.18o.Z ', 'osn30400.18o.Z ', 'osn40400.18o.Z ', 'ous20400.18o.Z ', 'owmg0400.18o.Z ', 'pado0400.18o.Z ', 'palm0400.18o.Z ', 'parc0400.18o.Z ', 'park0400.18o.Z ', 'pbri0400.18o.Z ', 'pdel0400.18o.Z ', 'pdme0400.18o.Z ', 'pebo0400.18o.Z ', 'pen20400.18o.Z ', 'penc0400.18o.Z ', 'pert0400.18o.Z ', 'pets0400.18o.Z ', 'pgen0400.18o.Z ', 'picl0400.18o.Z ', 'pie10400.18o.Z ', 'pimo0400.18o.Z ', 'pin10400.18o.Z ', 'pmbt0400.18o.Z ', 'pngm0400.18o.Z ', 'podg0400.18o.Z ', 'pohn0400.18o.Z ', 'pol20400.18o.Z ', 'polv0400.18o.Z ', 'pots0400.18o.Z ', 'poum0400.18o.Z ', 'pove0400.18o.Z ', 'prd20400.18o.Z ', 'prd30400.18o.Z ', 'prds0400.18o.Z ', 'pre30400.18o.Z ', 'pre40400.18o.Z ', 'ptag0400.18o.Z ', 'ptal0400.18o.Z ', 'ptbb0400.18o.Z ', 'ptrf0400.18o.Z ', 'ptvl0400.18o.Z ', 'pve30400.18o.Z ', 'qaq10400.18o.Z ', 'qiki0400.18o.Z ', 'quad0400.18o.Z ', 'qui30400.18o.Z ', 'quin0400.18o.Z ', 'rabt0400.18o.Z ', 'raeg0400.18o.Z ', 'ramo0400.18o.Z ', 'rbay0400.18o.Z ', 'rdsd0400.18o.Z ', 'recf0400.18o.Z ', 'redu0400.18o.Z ', 'reun0400.18o.Z ', 'reyk0400.18o.Z ', 'rgdg0400.18o.Z ', 'riga0400.18o.Z ', 'rio20400.18o.Z ', 'riop0400.18o.Z ', 'roap0400.18o.Z ', 'rock0400.18o.Z ', 'roth0400.18o.Z ', 'rwsn0400.18o.Z ', 'salu0400.18o.Z ', 'samo0400.18o.Z ', 'sant0400.18o.Z ', 'sask0400.18o.Z ', 'sass0400.18o.Z ', 'savo0400.18o.Z ', 'sbok0400.18o.Z ', 'sc040400.18o.Z ', 'sch20400.18o.Z ', 'scip0400.18o.Z ', 'scor0400.18o.Z ', 'scrz0400.18o.Z ', 'sctb0400.18o.Z ', 'scub0400.18o.Z ', 'sey20400.18o.Z ', 'seyg0400.18o.Z ', 'sfdm0400.18o.Z ', 'sfer0400.18o.Z ', 'shao0400.18o.Z ', 'she20400.18o.Z ', 'smst0400.18o.Z ', 'smtg0400.18o.Z ', 'sni10400.18o.Z ', 'sod30400.18o.Z ', 'sofi0400.18o.Z ', 'solo0400.18o.Z ', 'spk10400.18o.Z ', 'spt00400.18o.Z ', 'ssia0400.18o.Z ', 'sthl0400.18o.Z ', 'stj20400.18o.Z ', 'stj30400.18o.Z ', 'stjo0400.18o.Z ', 'stk20400.18o.Z ', 'str10400.18o.Z ', 'str20400.18o.Z ', 'sulp0400.18o.Z ', 'suth0400.18o.Z ', 'sutm0400.18o.Z ', 'suwn0400.18o.Z ', 'svtl0400.18o.Z ', 'sydn0400.18o.Z ', 'syog0400.18o.Z ', 'tabl0400.18o.Z ', 'tabv0400.18o.Z ', 'tamp0400.18o.Z ', 'tcms0400.18o.Z ', 'tdou0400.18o.Z ', 'tehn0400.18o.Z ', 'tfno0400.18o.Z ', 'thio0400.18o.Z ', 'thtg0400.18o.Z ', 'thti0400.18o.Z ', 'thu20400.18o.Z ', 'thu30400.18o.Z ', 'tid10400.18o.Z ', 'tidb0400.18o.Z ', 'tidv0400.18o.Z ', 'tit20400.18o.Z ', 'tixg0400.18o.Z ', 'tixi0400.18o.Z ', 'tlse0400.18o.Z ', 'tlsg0400.18o.Z ', 'tnml0400.18o.Z ', 'tong0400.18o.Z ', 'torp0400.18o.Z ', 'tow20400.18o.Z ', 'trak0400.18o.Z ', 'tro10400.18o.Z ', 'tsk20400.18o.Z ', 'tskb0400.18o.Z ', 'ttta0400.18o.Z ', 'tubi0400.18o.Z ', 'tukt0400.18o.Z ', 'tuva0400.18o.Z ', 'twtf0400.18o.Z ', 'uaco0400.18o.Z ', 'uclp0400.18o.Z ', 'uclu0400.18o.Z ', 'ufpr0400.18o.Z ', 'ulab0400.18o.Z ', 'uldi0400.18o.Z ', 'unbj0400.18o.Z ', 'unbn0400.18o.Z ', 'unsa0400.18o.Z ', 'urum0400.18o.Z ', 'urus0400.18o.Z ', 'usud0400.18o.Z ', 'vaas0400.18o.Z ', 'vald0400.18o.Z ', 'vbca0400.18o.Z ', 'vill0400.18o.Z ', 'vis00400.18o.Z ', 'vndp0400.18o.Z ', 'voim0400.18o.Z ', 'wab20400.18o.Z ', 'wark0400.18o.Z ', 'warn0400.18o.Z ', 'wdc50400.18o.Z ', 'wdc60400.18o.Z ', 'wgtn0400.18o.Z ', 'wgtt0400.18o.Z ', 'whc10400.18o.Z ', 'whit0400.18o.Z ', 'widc0400.18o.Z ', 'will0400.18o.Z ', 'wind0400.18o.Z ', 'wlsn0400.18o.Z ', 'wroc0400.18o.Z ', 'wslb0400.18o.Z ', 'wsrt0400.18o.Z ', 'wtza0400.18o.Z ', 'wtzr0400.18o.Z ', 'wtzs0400.18o.Z ', 'wtzz0400.18o.Z ', 'wuh20400.18o.Z ', 'xmis0400.18o.Z ', 'yakt0400.18o.Z ', 'yar20400.18o.Z ', 'yar30400.18o.Z ', 'yarr0400.18o.Z ', 'yate0400.18o.Z ', 'ycba0400.18o.Z ', 'yebe0400.18o.Z ', 'yel20400.18o.Z ', 'yel30400.18o.Z ', 'yell0400.18o.Z ', 'yibl0400.18o.Z ', 'ykro0400.18o.Z ', 'yssk0400.18o.Z ', 'zamb0400.18o.Z ', 'zeck0400.18o.Z ', 'zim20400.18o.Z ', 'zimj0400.18o.Z ', 'zimm0400.18o.Z ', '/index.html', 'http://icsu-wds.org', 'mailto:rivers.lamb@nasa.gov', 'mailto:lori.j.tyahla@nasa.gov', '/About/FAQ.html', 'https://forum.earthdata.nasa.gov/', '/About/ContactUs.html', 'http://www.nasa.gov/about/highlights/HP_Privacy.html', 'https://www.earthdata.nasa.gov/engage/open-data-services-and-software/data-and-information-policy)', 'https://www.nasa.gov/general/nasa-policy-on-the-release-of-information-to-news-and-information-media/', 'https://www.nasa.gov/foia/', 'https://www.nasa.gov/general/accessibility/)', 'http://www.usa.gov']\n"
     ]
    }
   ],
   "source": [
    "# get a list of all the updated \n",
    "url = \"https://cddis.nasa.gov/archive/gnss/data/daily/2018/040/18o/\"\n",
    "response = requests.get(url)\n",
    "soup = BeautifulSoup(response.content, \"html.parser\")\n",
    "years_links = [link['href'] for link in soup.find_all('a', href=True)][1:]\n",
    "print(years_links)\n",
    "\n",
    "#download_root = \"/home/abhishek/.snap/auxdata/Orbits/Sentinel-1/POEORB/S1A/\"\n",
    "\n"
   ]
  },
  {
   "cell_type": "code",
   "execution_count": 44,
   "metadata": {},
   "outputs": [],
   "source": [
    "year = '2020'\n",
    "doy = '007'\n",
    "ftype = 'o'\n",
    "station = 'iisc'"
   ]
  },
  {
   "cell_type": "code",
   "execution_count": 85,
   "metadata": {},
   "outputs": [
    {
     "name": "stdout",
     "output_type": "stream",
     "text": [
      "['MD5SUMS', 'SHA512SUMS', 'TWTF00TWN_R_20200070000_01D_30S_MO.rnx.gz', 'abmf0070.20o.Z', 'abpo0070.20o.Z', 'adis0070.20o.Z', 'aira0070.20o.Z', 'al2h0070.20o.gz', 'albh0070.20o.Z', 'alg20070.20o.Z', 'alg30070.20o.Z', 'algo0070.20o.Z', 'alic0070.20o.Z', 'amc40070.20o.Z', 'amu20070.20o.Z', 'ankr0070.20o.Z', 'areg0070.20o.Z', 'areq0070.20o.Z', 'arht0070.20o.Z', 'artu0070.20o.Z', 'aruc0070.20o.Z', 'ascg0070.20o.Z', 'aspa0070.20o.Z', 'atli0070.20o.Z', 'atru0070.20o.Z', 'auck0070.20o.Z', 'aukt0070.20o.Z', 'azu10070.20o.Z', 'badg0070.20o.Z', 'baib0070.20o.gz', 'baie0070.20o.Z', 'bake0070.20o.Z', 'bako0070.20o.Z', 'bamf0070.20o.Z', 'barh0070.20o.Z', 'bcov0070.20o.Z', 'bcrk0070.20o.Z', 'bele0070.20o.Z', 'bhr30070.20o.Z', 'bhr40070.20o.Z', 'bilb0070.20o.Z', 'bill0070.20o.Z', 'bjco0070.20o.Z', 'bjfs0070.20o.Z', 'bjnm0070.20o.Z', 'blyt0070.20o.Z', 'bnab0070.20o.gz', 'bnoa0070.20o.Z', 'boav0070.20o.Z', 'bogi0070.20o.Z', 'bogt0070.20o.Z', 'bor10070.20o.Z', 'bpeb0070.20o.gz', 'braz0070.20o.Z', 'brew0070.20o.Z', 'brft0070.20o.Z', 'brmu0070.20o.Z', 'brst0070.20o.Z', 'brux0070.20o.Z', 'bshm0070.20o.Z', 'bucu0070.20o.Z', 'bzrg0070.20o.Z', 'cags0070.20o.Z', 'cas10070.20o.Z', 'cata0070.20o.Z', 'ccj20070.20o.Z', 'cebr0070.20o.Z', 'cedu0070.20o.Z', 'cefe0070.20o.Z', 'chac0070.20o.Z', 'chan0070.20o.Z', 'chil0070.20o.Z', 'chpg0070.20o.Z', 'chpi0070.20o.Z', 'chti0070.20o.Z', 'chu20070.20o.Z', 'chum0070.20o.Z', 'chur0070.20o.Z', 'chwk0070.20o.Z', 'cibg0070.20o.Z', 'cit10070.20o.Z', 'ckis0070.20o.Z', 'cksv0070.20o.Z', 'clrs0070.20o.Z', 'cmp90070.20o.Z', 'cnmr0070.20o.Z', 'cord0070.20o.Z', 'coso0070.20o.Z', 'cote0070.20o.Z', 'cpvg0070.20o.Z', 'crfp0070.20o.Z', 'cro10070.20o.Z', 'cuib0070.20o.Z', 'cusv0070.20o.Z', 'cut00070.20o.Z', 'cztg0070.20o.Z', 'daej0070.20o.Z', 'dakr0070.20o.Z', 'darw0070.20o.Z', 'dav10070.20o.Z', 'dear0070.20o.Z', 'dgar0070.20o.Z', 'dhlg0070.20o.Z', 'djig0070.20o.Z', 'dlf10070.20o.Z', 'dr2o0070.20o.gz', 'dra30070.20o.Z', 'dra40070.20o.Z', 'drag0070.20o.Z', 'drao0070.20o.Z', 'ds130070.20o.Z', 'dubo0070.20o.Z', 'dund0070.20o.Z', 'dyng0070.20o.Z', 'eil30070.20o.Z', 'eil40070.20o.Z', 'eliz0070.20o.Z', 'escu0070.20o.Z', 'eur20070.20o.Z', 'faa10070.20o.Z', 'fair0070.20o.Z', 'falk0070.20o.Z', 'ffmj0070.20o.Z', 'flin0070.20o.Z', 'flrs0070.20o.Z', 'frdn0070.20o.Z', 'ftna0070.20o.Z', 'func0070.20o.Z', 'gamb0070.20o.Z', 'gamg0070.20o.Z', 'ganp0070.20o.Z', 'gcgo0070.20o.Z', 'geno0070.20o.Z', 'gldr0070.20o.Z', 'glps0070.20o.Z', 'glsv0070.20o.Z', 'gmsd0070.20o.Z', 'gode0070.20o.Z', 'godn0070.20o.Z', 'godr0070.20o.Z', 'gods0070.20o.Z', 'godz0070.20o.Z', 'gol20070.20o.Z', 'gold0070.20o.Z', 'gop60070.20o.Z', 'gop70070.20o.Z', 'gope0070.20o.Z', 'goro0070.20o.Z', 'grac0070.20o.Z', 'gras0070.20o.Z', 'guam0070.20o.Z', 'guat0070.20o.Z', 'guug0070.20o.Z', 'hal10070.20o.Z', 'hamd0070.20o.Z', 'harb0070.20o.Z', 'hers0070.20o.Z', 'hert0070.20o.Z', 'hghn0070.20o.Z', 'hksl0070.20o.Z', 'hkws0070.20o.Z', 'hlfx0070.20o.Z', 'hlob0070.20o.Z', 'hnpt0070.20o.Z', 'hnus0070.20o.Z', 'hob20070.20o.Z', 'hofn0070.20o.Z', 'hoki0070.20o.Z', 'holb0070.20o.Z', 'holm0070.20o.gz', 'hrao0070.20o.Z', 'hueg0070.20o.Z', 'hyde0070.20o.Z', 'ieng0070.20o.Z', 'iisc0070.20o.Z', 'impz0070.20o.Z', 'ineg0070.20o.Z', 'invk0070.20o.Z', 'iqal0070.20o.Z', 'iqqe0070.20o.Z', 'irkj0070.20o.Z', 'irkm0070.20o.Z', 'isba0070.20o.Z', 'isco0070.20o.Z', 'ishi0070.20o.Z', 'ista0070.20o.Z', 'izmi0070.20o.Z', 'jfng0070.20o.Z', 'jord0070.20o.gz', 'joz20070.20o.Z', 'joze0070.20o.Z', 'jplm0070.20o.Z', 'karr0070.20o.Z', 'kat10070.20o.Z', 'kaza0070.20o.Z', 'kerg0070.20o.Z', 'kgni0070.20o.Z', 'kir00070.20o.Z', 'kir80070.20o.Z', 'kiri0070.20o.Z', 'kiru0070.20o.Z', 'kitg0070.20o.Z', 'kmnm0070.20o.Z', 'kokb0070.20o.Z', 'kokr0070.20o.Z', 'kokv0070.20o.Z', 'kost0070.20o.Z', 'kouc0070.20o.Z', 'koug0070.20o.Z', 'kour0070.20o.Z', 'krgg0070.20o.Z', 'krs10070.20o.Z', 'kuj20070.20o.Z', 'lama0070.20o.Z', 'laut0070.20o.Z', 'lbch0070.20o.Z', 'lcap0070.20o.Z', 'leij0070.20o.Z', 'lfoa0070.20o.Z', 'lhaz0070.20o.Z', 'lhcl0070.20o.Z', 'lmmf0070.20o.Z', 'lovj0070.20o.Z', 'lpal0070.20o.Z', 'lpil0070.20o.Z', 'lpoc0070.20o.Z', 'lroc0070.20o.Z', 'm0se0070.20o.Z', 'mac10070.20o.Z', 'mad20070.20o.Z', 'madr0070.20o.Z', 'maju0070.20o.Z', 'mal20070.20o.Z', 'mana0070.20o.Z', 'mar60070.20o.Z', 'mar70070.20o.Z', 'mas10070.20o.Z', 'mat10070.20o.Z', 'mate0070.20o.Z', 'matg0070.20o.Z', 'matz0070.20o.Z', 'maw10070.20o.Z', 'mayg0070.20o.Z', 'mbar0070.20o.Z', 'mchl0070.20o.Z', 'mcil0070.20o.Z', 'mcm40070.20o.Z', 'mdvj0070.20o.Z', 'medi0070.20o.Z', 'meli0070.20o.Z', 'meri0070.20o.Z', 'mers0070.20o.Z', 'met30070.20o.Z', 'metg0070.20o.Z', 'mets0070.20o.Z', 'mfkg0070.20o.Z', 'mgrb0070.20o.gz', 'mgue0070.20o.Z', 'mikl0070.20o.Z', 'mkea0070.20o.Z', 'mobj0070.20o.Z', 'mobk0070.20o.Z', 'mobn0070.20o.Z', 'mobs0070.20o.Z', 'monp0070.20o.Z', 'morp0070.20o.Z', 'mqzg0070.20o.Z', 'mrc10070.20o.Z', 'mrib0070.20o.Z', 'mrl10070.20o.Z', 'mrl20070.20o.Z', 'mro10070.20o.Z', 'mtka0070.20o.Z', 'mtv10070.20o.Z', 'mtv20070.20o.Z', 'myra0070.20o.gz', 'nano0070.20o.Z', 'nas00070.20o.Z', 'naur0070.20o.Z', 'ncsb0070.20o.gz', 'neia0070.20o.Z', 'newl0070.20o.Z', 'nico0070.20o.Z', 'nist0070.20o.Z', 'nium0070.20o.Z', 'nklg0070.20o.Z', 'nlib0070.20o.Z', 'nmea0070.20o.Z', 'nnor0070.20o.Z', 'novm0070.20o.Z', 'nply0070.20o.Z', 'nrc10070.20o.Z', 'nril0070.20o.Z', 'ntka0070.20o.Z', 'nvsk0070.20o.Z', 'nya10070.20o.Z', 'nyal0070.20o.Z', 'oak10070.20o.Z', 'oak20070.20o.Z', 'ohi20070.20o.Z', 'ohi30070.20o.Z', 'ons10070.20o.Z', 'onsa0070.20o.Z', 'op710070.20o.Z', 'opmt0070.20o.Z', 'orid0070.20o.Z', 'osn30070.20o.Z', 'osn40070.20o.Z', 'owmg0070.20o.Z', 'pado0070.20o.Z', 'palm0070.20o.Z', 'parc0070.20o.Z', 'park0070.20o.Z', 'pclb0070.20o.gz', 'pdel0070.20o.Z', 'pdme0070.20o.Z', 'pebo0070.20o.Z', 'penc0070.20o.Z', 'pert0070.20o.Z', 'pets0070.20o.Z', 'pgc50070.20o.Z', 'picl0070.20o.Z', 'pie10070.20o.Z', 'pimo0070.20o.Z', 'pin10070.20o.Z', 'pmbt0070.20o.Z', 'pngm0070.20o.Z', 'poal0070.20o.Z', 'pol20070.20o.Z', 'polv0070.20o.Z', 'pove0070.20o.Z', 'ppte0070.20o.Z', 'prd20070.20o.Z', 'prd30070.20o.Z', 'prds0070.20o.Z', 'pre30070.20o.Z', 'pre40070.20o.Z', 'ptal0070.20o.Z', 'ptbb0070.20o.Z', 'ptgg0070.20o.Z', 'ptrf0070.20o.Z', 'ptvl0070.20o.Z', 'pve30070.20o.Z', 'qaq10070.20o.Z', 'quad0070.20o.Z', 'qui30070.20o.Z', 'qui40070.20o.Z', 'quin0070.20o.Z', 'rabt0070.20o.gz', 'raeg0070.20o.Z', 'ramo0070.20o.Z', 'rdsd0070.20o.Z', 'redu0070.20o.Z', 'reso0070.20o.gz', 'reun0070.20o.Z', 'reyk0070.20o.Z', 'rgdg0070.20o.Z', 'riga0070.20o.Z', 'riob0070.20o.Z', 'riop0070.20o.Z', 'roag0070.20o.Z', 'rock0070.20o.Z', 'roth0070.20o.Z', 'rwsn0070.20o.Z', 'saga0070.20o.Z', 'salu0070.20o.Z', 'samo0070.20o.Z', 'sant0070.20o.Z', 'sask0070.20o.Z', 'savo0070.20o.Z', 'sbok0070.20o.Z', 'sc040070.20o.Z', 'sch20070.20o.Z', 'scip0070.20o.Z', 'scor0070.20o.Z', 'sctb0070.20o.Z', 'sejn0070.20o.Z', 'seme0070.20o.Z', 'sey20070.20o.Z', 'seyg0070.20o.Z', 'sfdm0070.20o.Z', 'sfer0070.20o.Z', 'shao0070.20o.gz', 'she20070.20o.Z', 'shpb0070.20o.Z', 'shpb0070.20o.gz', 'smst0070.20o.Z', 'sod30070.20o.Z', 'sofi0070.20o.Z', 'solo0070.20o.Z', 'spk10070.20o.Z', 'spt00070.20o.Z', 'ssia0070.20o.Z', 'sthl0070.20o.Z', 'stj20070.20o.Z', 'stj30070.20o.Z', 'stjo0070.20o.Z', 'stk20070.20o.Z', 'str10070.20o.Z', 'str20070.20o.Z', 'sulp0070.20o.Z', 'sumk0070.20o.Z', 'suth0070.20o.Z', 'suwn0070.20o.Z', 'svtl0070.20o.Z', 'sydn0070.20o.Z', 'syog0070.20o.Z', 'tabl0070.20o.Z', 'tabv0070.20o.Z', 'tahb0070.20o.Z', 'tdou0070.20o.Z', 'tfno0070.20o.Z', 'thio0070.20o.Z', 'thtg0070.20o.Z', 'thti0070.20o.Z', 'thu20070.20o.Z', 'tid10070.20o.Z', 'tidb0070.20o.Z', 'tidv0070.20o.Z', 'tit20070.20o.Z', 'tixg0070.20o.Z', 'tixi0070.20o.Z', 'tlse0070.20o.Z', 'tlsg0070.20o.Z', 'tong0070.20o.Z', 'topl0070.20o.Z', 'torp0070.20o.Z', 'tow20070.20o.Z', 'trak0070.20o.Z', 'tro10070.20o.Z', 'tsk20070.20o.Z', 'tskb0070.20o.Z', 'ttta0070.20o.Z', 'tubi0070.20o.Z', 'tukt0070.20o.Z', 'twtf0070.20o.Z', 'uaco0070.20o.Z', 'uclu0070.20o.Z', 'ufpr0070.20o.Z', 'uldi0070.20o.Z', 'unbj0070.20o.Z', 'unbn0070.20o.Z', 'usn70070.20o.Z', 'usn80070.20o.Z', 'usud0070.20o.Z', 'vacs0070.20o.Z', 'vald0070.20o.Z', 'vbca0070.20o.Z', 'vill0070.20o.Z', 'vis00070.20o.Z', 'vndp0070.20o.Z', 'wab20070.20o.Z', 'wark0070.20o.Z', 'warn0070.20o.Z', 'wdc50070.20o.Z', 'wdc60070.20o.Z', 'wgtn0070.20o.Z', 'whc10070.20o.Z', 'whit0070.20o.Z', 'widc0070.20o.Z', 'will0070.20o.Z', 'wlsn0070.20o.Z', 'wosb0070.20o.Z', 'wroc0070.20o.Z', 'wslb0070.20o.Z', 'wtza0070.20o.Z', 'wtzr0070.20o.Z', 'wtzs0070.20o.Z', 'wtzz0070.20o.Z', 'xmis0070.20o.Z', 'yakt0070.20o.Z', 'yar20070.20o.Z', 'yar30070.20o.Z', 'yarr0070.20o.Z', 'yate0070.20o.Z', 'yebe0070.20o.Z', 'yel20070.20o.Z', 'yel30070.20o.Z', 'yell0070.20o.Z', 'yibl0070.20o.gz', 'ykro0070.20o.Z', 'yssk0070.20o.Z', 'zamb0070.20o.Z', 'zeck0070.20o.Z', 'zim20070.20o.Z', 'zimm0070.20o.Z']\n"
     ]
    }
   ],
   "source": [
    "email = \"asminpsba@gmail.com\"\n",
    "directory = f'gnss/data/daily/{year}/{doy}/{year[-2:]}{ftype}/'\n",
    "ftps = FTP_TLS(host = 'gdc.cddis.eosdis.nasa.gov')\n",
    "ftps.login(user='anonymous', passwd=email)\n",
    "ftps.prot_p()\n",
    "ftps.cwd(directory)\n",
    "print(ftps.nlst())"
   ]
  },
  {
   "cell_type": "code",
   "execution_count": 95,
   "metadata": {},
   "outputs": [
    {
     "name": "stdout",
     "output_type": "stream",
     "text": [
      "2020, 114, iisc, o, 2, <class 'str'>\n",
      "\n",
      " gnss/data/daily/2020/114/20o/ \n",
      "\n",
      "['MD5SUMS', 'SHA512SUMS', 'TWTF00TWN_R_20201140000_01D_30S_MO.rnx.gz', 'abmf1140.20o.Z', 'abpo1140.20o.Z', 'adis1140.20o.Z', 'aira1140.20o.Z', 'ajac1140.20o.Z', 'al2h1140.20o.gz', 'albh1140.20o.Z', 'alg21140.20o.Z', 'alg31140.20o.Z', 'algo1140.20o.Z', 'alrt1140.20o.gz', 'amc41140.20o.Z', 'amu21140.20o.Z', 'ankr1140.20o.Z', 'antc1140.20o.Z', 'areg1140.20o.Z', 'areq1140.20o.Z', 'arht1140.20o.Z', 'artu1140.20o.Z', 'aruc1140.20o.Z', 'ascg1140.20o.Z', 'aspa1140.20o.Z', 'atli1140.20o.Z', 'auck1140.20o.Z', 'azu11140.20o.Z', 'badg1140.20o.Z', 'baib1140.20o.gz', 'baie1140.20o.Z', 'bake1140.20o.Z', 'bamf1140.20o.Z', 'barh1140.20o.Z', 'bcov1140.20o.Z', 'bcrk1140.20o.Z', 'bele1140.20o.Z', 'bhr31140.20o.Z', 'bhr41140.20o.Z', 'bilb1140.20o.Z', 'bill1140.20o.Z', 'bjfs1140.20o.Z', 'bjnm1140.20o.Z', 'blyt1140.20o.Z', 'bnab1140.20o.gz', 'bnoa1140.20o.Z', 'boav1140.20o.Z', 'bogi1140.20o.Z', 'bogt1140.20o.Z', 'bor11140.20o.Z', 'bpeb1140.20o.gz', 'braz1140.20o.Z', 'brew1140.20o.Z', 'brft1140.20o.Z', 'brmu1140.20o.Z', 'brst1140.20o.Z', 'brux1140.20o.Z', 'bshm1140.20o.Z', 'bucu1140.20o.Z', 'bzrg1140.20o.Z', 'cags1140.20o.Z', 'cata1140.20o.Z', 'ccj21140.20o.Z', 'cedu1140.20o.Z', 'cefe1140.20o.Z', 'chac1140.20o.Z', 'chan1140.20o.Z', 'chil1140.20o.Z', 'chpg1140.20o.Z', 'chpi1140.20o.Z', 'chti1140.20o.Z', 'chu21140.20o.Z', 'chum1140.20o.Z', 'chur1140.20o.Z', 'chwk1140.20o.Z', 'cibg1140.20o.Z', 'cit11140.20o.Z', 'ckis1140.20o.Z', 'cksv1140.20o.Z', 'clrs1140.20o.Z', 'cmp91140.20o.Z', 'cnmr1140.20o.Z', 'coco1140.20o.Z', 'cord1140.20o.Z', 'coso1140.20o.Z', 'cote1140.20o.Z', 'cpvg1140.20o.Z', 'crfp1140.20o.Z', 'cro11140.20o.Z', 'cuib1140.20o.Z', 'cusv1140.20o.Z', 'cut01140.20o.Z', 'cztg1140.20o.Z', 'daej1140.20o.Z', 'dakr1140.20o.Z', 'darw1140.20o.Z', 'dav11140.20o.Z', 'dear1140.20o.Z', 'dgar1140.20o.Z', 'dhlg1140.20o.Z', 'djig1140.20o.Z', 'dlf11140.20o.Z', 'dr2o1140.20o.gz', 'dra31140.20o.Z', 'dra41140.20o.Z', 'drag1140.20o.Z', 'drao1140.20o.Z', 'ds131140.20o.Z', 'dubo1140.20o.Z', 'dumg1140.20o.Z', 'dund1140.20o.Z', 'eil31140.20o.Z', 'eil41140.20o.Z', 'eliz1140.20o.Z', 'escu1140.20o.Z', 'eur21140.20o.Z', 'fair1140.20o.Z', 'falk1140.20o.Z', 'ffmj1140.20o.Z', 'flin1140.20o.Z', 'flrs1140.20o.Z', 'frdn1140.20o.Z', 'ftna1140.20o.Z', 'func1140.20o.Z', 'gamb1140.20o.Z', 'gamg1140.20o.Z', 'gcgo1140.20o.Z', 'geno1140.20o.Z', 'gldr1140.20o.Z', 'glps1140.20o.Z', 'glsv1140.20o.Z', 'gmsd1140.20o.Z', 'gode1140.20o.Z', 'godn1140.20o.Z', 'godr1140.20o.Z', 'gods1140.20o.Z', 'godz1140.20o.Z', 'gol21140.20o.Z', 'gold1140.20o.Z', 'gop61140.20o.Z', 'gop71140.20o.Z', 'gope1140.20o.Z', 'grac1140.20o.Z', 'gras1140.20o.Z', 'guam1140.20o.Z', 'guat1140.20o.Z', 'guug1140.20o.Z', 'hal11140.20o.Z', 'hamd1140.20o.Z', 'harb1140.20o.Z', 'hers1140.20o.Z', 'hert1140.20o.Z', 'hghn1140.20o.gz', 'hksl1140.20o.Z', 'hkws1140.20o.Z', 'hlfx1140.20o.Z', 'hnpt1140.20o.Z', 'hnus1140.20o.Z', 'hob21140.20o.Z', 'hofn1140.20o.Z', 'holb1140.20o.Z', 'holm1140.20o.gz', 'hrao1140.20o.Z', 'hueg1140.20o.Z', 'hyde1140.20o.Z', 'ieng1140.20o.Z', 'iisc1140.20o.Z', 'impz1140.20o.Z', 'invk1140.20o.Z', 'iqal1140.20o.Z', 'iqqe1140.20o.Z', 'irkj1140.20o.Z', 'irkm1140.20o.Z', 'ishi1140.20o.Z', 'ista1140.20o.Z', 'izmi1140.20o.Z', 'jfng1140.20o.Z', 'jord1140.20o.gz', 'joz21140.20o.Z', 'joze1140.20o.Z', 'jplm1140.20o.Z', 'karr1140.20o.Z', 'kat11140.20o.Z', 'kaza1140.20o.Z', 'kerg1140.20o.Z', 'kgni1140.20o.Z', 'kir01140.20o.Z', 'kir81140.20o.Z', 'kiri1140.20o.Z', 'kitg1140.20o.Z', 'kmnm1140.20o.Z', 'kokb1140.20o.Z', 'kokr1140.20o.Z', 'kokv1140.20o.Z', 'kost1140.20o.Z', 'koug1140.20o.Z', 'krgg1140.20o.Z', 'krs11140.20o.Z', 'kuj21140.20o.Z', 'lama1140.20o.Z', 'laut1140.20o.Z', 'lbch1140.20o.Z', 'lck31140.20o.Z', 'lck41140.20o.Z', 'leij1140.20o.Z', 'lhaz1140.20o.Z', 'lhcl1140.20o.Z', 'lmmf1140.20o.Z', 'lovj1140.20o.Z', 'lpal1140.20o.Z', 'lpoc1140.20o.Z', 'lroc1140.20o.Z', 'm0se1140.20o.Z', 'mac11140.20o.Z', 'mad21140.20o.Z', 'madr1140.20o.Z', 'mag01140.20o.Z', 'maju1140.20o.Z', 'mana1140.20o.Z', 'mar61140.20o.Z', 'mar71140.20o.Z', 'mat11140.20o.Z', 'mate1140.20o.Z', 'matg1140.20o.Z', 'matz1140.20o.Z', 'maui1140.20o.Z', 'maw11140.20o.Z', 'mayg1140.20o.Z', 'mbar1140.20o.Z', 'mchl1140.20o.Z', 'mcil1140.20o.Z', 'mcm41140.20o.Z', 'mdo11140.20o.Z', 'mdvj1140.20o.Z', 'medi1140.20o.Z', 'meli1140.20o.Z', 'meri1140.20o.Z', 'mers1140.20o.Z', 'met31140.20o.Z', 'metg1140.20o.Z', 'mets1140.20o.Z', 'mgo31140.20o.Z', 'mgo41140.20o.Z', 'mgo51140.20o.Z', 'mgrb1140.20o.gz', 'mikl1140.20o.Z', 'mkea1140.20o.Z', 'mobj1140.20o.Z', 'mobk1140.20o.Z', 'mobn1140.20o.Z', 'mobs1140.20o.Z', 'monp1140.20o.Z', 'morp1140.20o.Z', 'mqzg1140.20o.Z', 'mrc11140.20o.Z', 'mrib1140.20o.Z', 'mrl11140.20o.Z', 'mrl21140.20o.Z', 'mro11140.20o.Z', 'mtka1140.20o.Z', 'mtv11140.20o.Z', 'mtv21140.20o.Z', 'myra1140.20o.gz', 'nano1140.20o.Z', 'nas01140.20o.Z', 'ncsb1140.20o.gz', 'neia1140.20o.Z', 'newl1140.20o.Z', 'nico1140.20o.Z', 'nist1140.20o.Z', 'nium1140.20o.Z', 'nklg1140.20o.Z', 'nlib1140.20o.Z', 'novm1140.20o.Z', 'nrc11140.20o.Z', 'nril1140.20o.Z', 'ntka1140.20o.Z', 'nvsk1140.20o.Z', 'nya11140.20o.Z', 'nyal1140.20o.Z', 'oak11140.20o.Z', 'oak21140.20o.Z', 'ohi21140.20o.Z', 'ohi31140.20o.Z', 'ons11140.20o.Z', 'onsa1140.20o.Z', 'op711140.20o.Z', 'opmt1140.20o.Z', 'orid1140.20o.Z', 'osn31140.20o.Z', 'osn41140.20o.Z', 'owmg1140.20o.Z', 'palm1140.20o.Z', 'parc1140.20o.Z', 'park1140.20o.Z', 'pbri1140.20o.Z', 'pclb1140.20o.gz', 'pdel1140.20o.Z', 'penc1140.20o.Z', 'pert1140.20o.Z', 'pets1140.20o.Z', 'pgc51140.20o.Z', 'picl1140.20o.Z', 'pie11140.20o.Z', 'pimo1140.20o.Z', 'pin11140.20o.Z', 'pngm1140.20o.Z', 'poal1140.20o.Z', 'podg1140.20o.Z', 'pol21140.20o.Z', 'polv1140.20o.Z', 'pove1140.20o.Z', 'pppc1140.20o.Z', 'ppte1140.20o.Z', 'prd21140.20o.Z', 'prd31140.20o.Z', 'prds1140.20o.Z', 'pre31140.20o.Z', 'pre41140.20o.Z', 'ptag1140.20o.Z', 'ptal1140.20o.Z', 'ptbb1140.20o.Z', 'ptgg1140.20o.Z', 'ptrf1140.20o.Z', 'ptvl1140.20o.Z', 'pve31140.20o.Z', 'qaq11140.20o.Z', 'quad1140.20o.Z', 'qui31140.20o.Z', 'qui41140.20o.Z', 'quin1140.20o.Z', 'rabt1140.20o.gz', 'raeg1140.20o.Z', 'ramo1140.20o.Z', 'rdsd1140.20o.Z', 'reso1140.20o.gz', 'reun1140.20o.Z', 'reyk1140.20o.Z', 'rgdg1140.20o.Z', 'riga1140.20o.Z', 'riob1140.20o.Z', 'riop1140.20o.Z', 'roag1140.20o.Z', 'rock1140.20o.Z', 'roth1140.20o.Z', 'rts21140.20o.gz', 'rwsn1140.20o.Z', 'saga1140.20o.Z', 'salu1140.20o.Z', 'samo1140.20o.Z', 'sant1140.20o.Z', 'sask1140.20o.Z', 'savo1140.20o.Z', 'sbok1140.20o.Z', 'sc041140.20o.Z', 'sch21140.20o.Z', 'scor1140.20o.Z', 'sctb1140.20o.Z', 'sejn1140.20o.Z', 'sey21140.20o.Z', 'seyg1140.20o.Z', 'sfdm1140.20o.Z', 'sfer1140.20o.Z', 'shao1140.20o.gz', 'she21140.20o.Z', 'smst1140.20o.Z', 'sod31140.20o.Z', 'sofi1140.20o.Z', 'solo1140.20o.Z', 'spt01140.20o.Z', 'ssia1140.20o.Z', 'sthl1140.20o.Z', 'stj21140.20o.Z', 'stj31140.20o.Z', 'stjo1140.20o.Z', 'stk21140.20o.Z', 'str11140.20o.Z', 'str21140.20o.Z', 'sulp1140.20o.Z', 'sumk1140.20o.Z', 'suth1140.20o.Z', 'suwn1140.20o.Z', 'svtl1140.20o.Z', 'sydn1140.20o.Z', 'syog1140.20o.Z', 'tabl1140.20o.Z', 'tabv1140.20o.Z', 'tahb1140.20o.Z', 'tcms1140.20o.Z', 'tdou1140.20o.Z', 'tehn1140.20o.Z', 'tfno1140.20o.Z', 'thio1140.20o.gz', 'thtg1140.20o.Z', 'thti1140.20o.Z', 'thu21140.20o.Z', 'tid11140.20o.Z', 'tidb1140.20o.Z', 'tidv1140.20o.Z', 'tit21140.20o.Z', 'tixg1140.20o.Z', 'tixi1140.20o.Z', 'tlse1140.20o.Z', 'tlsg1140.20o.Z', 'topl1140.20o.Z', 'torp1140.20o.Z', 'tow21140.20o.Z', 'trak1140.20o.Z', 'tro11140.20o.Z', 'tsk21140.20o.Z', 'tskb1140.20o.Z', 'ttta1140.20o.gz', 'tubi1140.20o.Z', 'tukt1140.20o.Z', 'twtf1140.20o.Z', 'uaco1140.20o.gz', 'uclu1140.20o.Z', 'ufpr1140.20o.Z', 'uldi1140.20o.Z', 'unbj1140.20o.Z', 'unbn1140.20o.Z', 'usn71140.20o.Z', 'usn81140.20o.Z', 'usn91140.20o.Z', 'usud1140.20o.Z', 'vacs1140.20o.Z', 'vald1140.20o.Z', 'vbca1140.20o.Z', 'vis01140.20o.Z', 'vndp1140.20o.Z', 'wab21140.20o.Z', 'wark1140.20o.Z', 'warn1140.20o.Z', 'wdc51140.20o.Z', 'wdc61140.20o.Z', 'wgtn1140.20o.Z', 'whc11140.20o.Z', 'whit1140.20o.Z', 'widc1140.20o.Z', 'will1140.20o.Z', 'wosb1140.20o.Z', 'wroc1140.20o.Z', 'wslb1140.20o.Z', 'wtza1140.20o.Z', 'wtzr1140.20o.Z', 'wtzs1140.20o.Z', 'wtzz1140.20o.Z', 'xmis1140.20o.Z', 'yakt1140.20o.Z', 'yar21140.20o.Z', 'yar31140.20o.Z', 'yarr1140.20o.Z', 'yate1140.20o.gz', 'yebe1140.20o.Z', 'yel21140.20o.Z', 'yel31140.20o.Z', 'yell1140.20o.Z', 'yibl1140.20o.gz', 'ykro1140.20o.Z', 'yssk1140.20o.Z', 'zamb1140.20o.Z', 'zeck1140.20o.Z', 'zim21140.20o.Z', 'zimm1140.20o.Z'] ['iisc1140.20o.Z']\n"
     ]
    }
   ],
   "source": [
    "igs_cddis_ftputils.igs_cddis_single(year='2020', doy='114', station='iisc', ftype='o', version=2, \n",
    "                     email='asminpsba@gmail.com', dest_folder='/media/abhishek/DATA/open_source/bernese_automation/test_downloads')\n"
   ]
  },
  {
   "cell_type": "code",
   "execution_count": 2,
   "metadata": {},
   "outputs": [
    {
     "name": "stderr",
     "output_type": "stream",
     "text": [
      "  0%|          | 0/2 [00:00<?, ?it/s]"
     ]
    },
    {
     "name": "stdout",
     "output_type": "stream",
     "text": [
      "2022, 001, iisc, o, 2, <class 'str'>\n",
      "\n",
      " gnss/data/daily/2022/001/22o/ \n",
      "\n",
      "['iisc0010.22o.gz']\n"
     ]
    },
    {
     "name": "stderr",
     "output_type": "stream",
     "text": []
    },
    {
     "name": "stdout",
     "output_type": "stream",
     "text": [
      "2022, 002, iisc, o, 2, <class 'str'>\n",
      "\n",
      " gnss/data/daily/2022/002/22o/ \n",
      "\n",
      "['iisc0020.22o.gz']\n"
     ]
    },
    {
     "name": "stderr",
     "output_type": "stream",
     "text": []
    },
    {
     "name": "stdout",
     "output_type": "stream",
     "text": [
      "2022, 115, iisc, o, 2, <class 'str'>\n",
      "\n",
      " gnss/data/daily/2022/115/22o/ \n",
      "\n",
      "['iisc1150.22o.gz']\n"
     ]
    },
    {
     "name": "stderr",
     "output_type": "stream",
     "text": [
      "100%|██████████| 3/3 [00:40<00:00, 13.63s/it]\n",
      " 50%|█████     | 1/2 [00:40<00:40, 40.90s/it]"
     ]
    },
    {
     "name": "stdout",
     "output_type": "stream",
     "text": [
      "2001, 001, iisc, o, 2, <class 'str'>\n",
      "\n",
      " gnss/data/daily/2001/001/01o/ \n",
      "\n",
      "['iisc0010.01o.Z']\n"
     ]
    },
    {
     "name": "stderr",
     "output_type": "stream",
     "text": []
    },
    {
     "name": "stdout",
     "output_type": "stream",
     "text": [
      "2001, 002, iisc, o, 2, <class 'str'>\n",
      "\n",
      " gnss/data/daily/2001/002/01o/ \n",
      "\n",
      "['iisc0020.01o.Z']\n"
     ]
    },
    {
     "name": "stderr",
     "output_type": "stream",
     "text": []
    },
    {
     "name": "stdout",
     "output_type": "stream",
     "text": [
      "2001, 115, iisc, o, 2, <class 'str'>\n",
      "\n",
      " gnss/data/daily/2001/115/01o/ \n",
      "\n"
     ]
    },
    {
     "name": "stderr",
     "output_type": "stream",
     "text": [
      "100%|██████████| 3/3 [00:29<00:00,  9.74s/it]\n",
      "100%|██████████| 2/2 [01:10<00:00, 35.06s/it]\n"
     ]
    },
    {
     "name": "stdout",
     "output_type": "stream",
     "text": [
      "[]\n",
      "iisc - 2001 - 115 - not found\n"
     ]
    },
    {
     "name": "stderr",
     "output_type": "stream",
     "text": [
      "  0%|          | 0/2 [00:00<?, ?it/s]"
     ]
    },
    {
     "name": "stdout",
     "output_type": "stream",
     "text": [
      "2022, 001, hyde, o, 2, <class 'str'>\n",
      "\n",
      " gnss/data/daily/2022/001/22o/ \n",
      "\n",
      "['hyde0010.22o.gz']\n"
     ]
    },
    {
     "name": "stderr",
     "output_type": "stream",
     "text": []
    },
    {
     "name": "stdout",
     "output_type": "stream",
     "text": [
      "2022, 002, hyde, o, 2, <class 'str'>\n",
      "\n",
      " gnss/data/daily/2022/002/22o/ \n",
      "\n",
      "['hyde0020.22o.gz']\n"
     ]
    },
    {
     "name": "stderr",
     "output_type": "stream",
     "text": []
    },
    {
     "name": "stdout",
     "output_type": "stream",
     "text": [
      "2022, 115, hyde, o, 2, <class 'str'>\n",
      "\n",
      " gnss/data/daily/2022/115/22o/ \n",
      "\n",
      "['hyde1150.22o.gz']\n"
     ]
    },
    {
     "name": "stderr",
     "output_type": "stream",
     "text": [
      "100%|██████████| 3/3 [00:37<00:00, 12.60s/it]\n",
      " 50%|█████     | 1/2 [00:37<00:37, 37.81s/it]"
     ]
    },
    {
     "name": "stdout",
     "output_type": "stream",
     "text": [
      "2001, 001, hyde, o, 2, <class 'str'>\n",
      "\n",
      " gnss/data/daily/2001/001/01o/ \n",
      "\n"
     ]
    },
    {
     "name": "stderr",
     "output_type": "stream",
     "text": []
    },
    {
     "name": "stdout",
     "output_type": "stream",
     "text": [
      "[]\n",
      "hyde - 2001 - 001 - not found\n",
      "2001, 002, hyde, o, 2, <class 'str'>\n",
      "\n",
      " gnss/data/daily/2001/002/01o/ \n",
      "\n"
     ]
    },
    {
     "name": "stderr",
     "output_type": "stream",
     "text": []
    },
    {
     "name": "stdout",
     "output_type": "stream",
     "text": [
      "[]\n",
      "hyde - 2001 - 002 - not found\n",
      "2001, 115, hyde, o, 2, <class 'str'>\n",
      "\n",
      " gnss/data/daily/2001/115/01o/ \n",
      "\n"
     ]
    },
    {
     "name": "stderr",
     "output_type": "stream",
     "text": [
      "100%|██████████| 3/3 [00:17<00:00,  5.90s/it]\n",
      "100%|██████████| 2/2 [00:55<00:00, 27.76s/it]\n"
     ]
    },
    {
     "name": "stdout",
     "output_type": "stream",
     "text": [
      "[]\n",
      "hyde - 2001 - 115 - not found\n"
     ]
    },
    {
     "name": "stderr",
     "output_type": "stream",
     "text": [
      "  0%|          | 0/2 [00:00<?, ?it/s]"
     ]
    },
    {
     "name": "stdout",
     "output_type": "stream",
     "text": [
      "2022, 001, lhaz, o, 2, <class 'str'>\n",
      "\n",
      " gnss/data/daily/2022/001/22o/ \n",
      "\n"
     ]
    },
    {
     "name": "stderr",
     "output_type": "stream",
     "text": []
    },
    {
     "name": "stdout",
     "output_type": "stream",
     "text": [
      "[]\n",
      "lhaz - 2022 - 001 - not found\n",
      "2022, 002, lhaz, o, 2, <class 'str'>\n",
      "\n",
      " gnss/data/daily/2022/002/22o/ \n",
      "\n"
     ]
    },
    {
     "name": "stderr",
     "output_type": "stream",
     "text": []
    },
    {
     "name": "stdout",
     "output_type": "stream",
     "text": [
      "[]\n",
      "lhaz - 2022 - 002 - not found\n",
      "2022, 115, lhaz, o, 2, <class 'str'>\n",
      "\n",
      " gnss/data/daily/2022/115/22o/ \n",
      "\n"
     ]
    },
    {
     "name": "stderr",
     "output_type": "stream",
     "text": [
      "100%|██████████| 3/3 [00:17<00:00,  5.84s/it]\n",
      " 50%|█████     | 1/2 [00:17<00:17, 17.51s/it]"
     ]
    },
    {
     "name": "stdout",
     "output_type": "stream",
     "text": [
      "[]\n",
      "lhaz - 2022 - 115 - not found\n"
     ]
    },
    {
     "name": "stderr",
     "output_type": "stream",
     "text": []
    },
    {
     "name": "stdout",
     "output_type": "stream",
     "text": [
      "2001, 001, lhaz, o, 2, <class 'str'>\n",
      "\n",
      " gnss/data/daily/2001/001/01o/ \n",
      "\n"
     ]
    },
    {
     "name": "stderr",
     "output_type": "stream",
     "text": []
    },
    {
     "name": "stdout",
     "output_type": "stream",
     "text": [
      "[]\n",
      "lhaz - 2001 - 001 - not found\n",
      "2001, 002, lhaz, o, 2, <class 'str'>\n",
      "\n",
      " gnss/data/daily/2001/002/01o/ \n",
      "\n"
     ]
    },
    {
     "name": "stderr",
     "output_type": "stream",
     "text": []
    },
    {
     "name": "stdout",
     "output_type": "stream",
     "text": [
      "[]\n",
      "lhaz - 2001 - 002 - not found\n",
      "2001, 115, lhaz, o, 2, <class 'str'>\n",
      "\n",
      " gnss/data/daily/2001/115/01o/ \n",
      "\n"
     ]
    },
    {
     "name": "stderr",
     "output_type": "stream",
     "text": [
      "100%|██████████| 3/3 [00:17<00:00,  5.74s/it]\n",
      "100%|██████████| 2/2 [00:34<00:00, 17.37s/it]"
     ]
    },
    {
     "name": "stdout",
     "output_type": "stream",
     "text": [
      "[]\n",
      "lhaz - 2001 - 115 - not found\n"
     ]
    },
    {
     "name": "stderr",
     "output_type": "stream",
     "text": [
      "\n"
     ]
    }
   ],
   "source": [
    "igs_cddis_ftputils.igs_cddis_multiple(years=['2022', '2001'], doys=['001', '002', '115'], stations=['iisc', 'hyde', 'lhaz'], ftype='o', version='2', \n",
    "                                      email='asminpaba@gmail.com', dest_folder='/media/abhishek/DATA/open_source/bernese_automation/test_downloads')"
   ]
  },
  {
   "cell_type": "code",
   "execution_count": null,
   "metadata": {},
   "outputs": [],
   "source": []
  }
 ],
 "metadata": {
  "kernelspec": {
   "display_name": "geoenv",
   "language": "python",
   "name": "python3"
  },
  "language_info": {
   "codemirror_mode": {
    "name": "ipython",
    "version": 3
   },
   "file_extension": ".py",
   "mimetype": "text/x-python",
   "name": "python",
   "nbconvert_exporter": "python",
   "pygments_lexer": "ipython3",
   "version": "3.11.0"
  }
 },
 "nbformat": 4,
 "nbformat_minor": 2
}
